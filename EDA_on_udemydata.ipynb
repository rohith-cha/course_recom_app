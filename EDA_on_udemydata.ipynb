{
 "cells": [
  {
   "cell_type": "markdown",
   "metadata": {},
   "source": [
    "## Data Preparation and EDA"
   ]
  },
  {
   "cell_type": "code",
   "execution_count": 1,
   "metadata": {},
   "outputs": [
    {
     "name": "stderr",
     "output_type": "stream",
     "text": [
      "C:\\Users\\ROHITH\\Anaconda3\\lib\\site-packages\\statsmodels\\tools\\_testing.py:19: FutureWarning: pandas.util.testing is deprecated. Use the functions in the public API at pandas.testing instead.\n",
      "  import pandas.util.testing as tm\n"
     ]
    }
   ],
   "source": [
    "#Load packages\n",
    "import pandas as pd\n",
    "import numpy as np\n",
    "import matplotlib.pyplot as plt\n",
    "import seaborn as sns\n",
    "#to hide all warnings\n",
    "import warnings\n",
    "warnings.filterwarnings('ignore')"
   ]
  },
  {
   "cell_type": "code",
   "execution_count": 2,
   "metadata": {},
   "outputs": [
    {
     "name": "stdout",
     "output_type": "stream",
     "text": [
      "Shape of the dataset is   (3678, 12)\n"
     ]
    },
    {
     "data": {
      "text/html": [
       "<div>\n",
       "<style scoped>\n",
       "    .dataframe tbody tr th:only-of-type {\n",
       "        vertical-align: middle;\n",
       "    }\n",
       "\n",
       "    .dataframe tbody tr th {\n",
       "        vertical-align: top;\n",
       "    }\n",
       "\n",
       "    .dataframe thead th {\n",
       "        text-align: right;\n",
       "    }\n",
       "</style>\n",
       "<table border=\"1\" class=\"dataframe\">\n",
       "  <thead>\n",
       "    <tr style=\"text-align: right;\">\n",
       "      <th></th>\n",
       "      <th>course_id</th>\n",
       "      <th>course_title</th>\n",
       "      <th>url</th>\n",
       "      <th>is_paid</th>\n",
       "      <th>price</th>\n",
       "      <th>num_subscribers</th>\n",
       "      <th>num_reviews</th>\n",
       "      <th>num_lectures</th>\n",
       "      <th>level</th>\n",
       "      <th>content_duration</th>\n",
       "      <th>published_timestamp</th>\n",
       "      <th>subject</th>\n",
       "    </tr>\n",
       "  </thead>\n",
       "  <tbody>\n",
       "    <tr>\n",
       "      <th>0</th>\n",
       "      <td>1070968</td>\n",
       "      <td>Ultimate Investment Banking Course</td>\n",
       "      <td>https://www.udemy.com/ultimate-investment-bank...</td>\n",
       "      <td>True</td>\n",
       "      <td>200</td>\n",
       "      <td>2147</td>\n",
       "      <td>23</td>\n",
       "      <td>51</td>\n",
       "      <td>All Levels</td>\n",
       "      <td>1.5</td>\n",
       "      <td>2017-01-18T20:58:58Z</td>\n",
       "      <td>Business Finance</td>\n",
       "    </tr>\n",
       "    <tr>\n",
       "      <th>1</th>\n",
       "      <td>1113822</td>\n",
       "      <td>Complete GST Course &amp; Certification - Grow You...</td>\n",
       "      <td>https://www.udemy.com/goods-and-services-tax/</td>\n",
       "      <td>True</td>\n",
       "      <td>75</td>\n",
       "      <td>2792</td>\n",
       "      <td>923</td>\n",
       "      <td>274</td>\n",
       "      <td>All Levels</td>\n",
       "      <td>39.0</td>\n",
       "      <td>2017-03-09T16:34:20Z</td>\n",
       "      <td>Business Finance</td>\n",
       "    </tr>\n",
       "    <tr>\n",
       "      <th>2</th>\n",
       "      <td>1006314</td>\n",
       "      <td>Financial Modeling for Business Analysts and C...</td>\n",
       "      <td>https://www.udemy.com/financial-modeling-for-b...</td>\n",
       "      <td>True</td>\n",
       "      <td>45</td>\n",
       "      <td>2174</td>\n",
       "      <td>74</td>\n",
       "      <td>51</td>\n",
       "      <td>Intermediate Level</td>\n",
       "      <td>2.5</td>\n",
       "      <td>2016-12-19T19:26:30Z</td>\n",
       "      <td>Business Finance</td>\n",
       "    </tr>\n",
       "    <tr>\n",
       "      <th>3</th>\n",
       "      <td>1210588</td>\n",
       "      <td>Beginner to Pro - Financial Analysis in Excel ...</td>\n",
       "      <td>https://www.udemy.com/complete-excel-finance-c...</td>\n",
       "      <td>True</td>\n",
       "      <td>95</td>\n",
       "      <td>2451</td>\n",
       "      <td>11</td>\n",
       "      <td>36</td>\n",
       "      <td>All Levels</td>\n",
       "      <td>3.0</td>\n",
       "      <td>2017-05-30T20:07:24Z</td>\n",
       "      <td>Business Finance</td>\n",
       "    </tr>\n",
       "    <tr>\n",
       "      <th>4</th>\n",
       "      <td>1011058</td>\n",
       "      <td>How To Maximize Your Profits Trading Options</td>\n",
       "      <td>https://www.udemy.com/how-to-maximize-your-pro...</td>\n",
       "      <td>True</td>\n",
       "      <td>200</td>\n",
       "      <td>1276</td>\n",
       "      <td>45</td>\n",
       "      <td>26</td>\n",
       "      <td>Intermediate Level</td>\n",
       "      <td>2.0</td>\n",
       "      <td>2016-12-13T14:57:18Z</td>\n",
       "      <td>Business Finance</td>\n",
       "    </tr>\n",
       "  </tbody>\n",
       "</table>\n",
       "</div>"
      ],
      "text/plain": [
       "   course_id                                       course_title  \\\n",
       "0    1070968                 Ultimate Investment Banking Course   \n",
       "1    1113822  Complete GST Course & Certification - Grow You...   \n",
       "2    1006314  Financial Modeling for Business Analysts and C...   \n",
       "3    1210588  Beginner to Pro - Financial Analysis in Excel ...   \n",
       "4    1011058       How To Maximize Your Profits Trading Options   \n",
       "\n",
       "                                                 url  is_paid  price  \\\n",
       "0  https://www.udemy.com/ultimate-investment-bank...     True    200   \n",
       "1      https://www.udemy.com/goods-and-services-tax/     True     75   \n",
       "2  https://www.udemy.com/financial-modeling-for-b...     True     45   \n",
       "3  https://www.udemy.com/complete-excel-finance-c...     True     95   \n",
       "4  https://www.udemy.com/how-to-maximize-your-pro...     True    200   \n",
       "\n",
       "   num_subscribers  num_reviews  num_lectures               level  \\\n",
       "0             2147           23            51          All Levels   \n",
       "1             2792          923           274          All Levels   \n",
       "2             2174           74            51  Intermediate Level   \n",
       "3             2451           11            36          All Levels   \n",
       "4             1276           45            26  Intermediate Level   \n",
       "\n",
       "   content_duration   published_timestamp           subject  \n",
       "0               1.5  2017-01-18T20:58:58Z  Business Finance  \n",
       "1              39.0  2017-03-09T16:34:20Z  Business Finance  \n",
       "2               2.5  2016-12-19T19:26:30Z  Business Finance  \n",
       "3               3.0  2017-05-30T20:07:24Z  Business Finance  \n",
       "4               2.0  2016-12-13T14:57:18Z  Business Finance  "
      ]
     },
     "execution_count": 2,
     "metadata": {},
     "output_type": "execute_result"
    }
   ],
   "source": [
    "#Load the dataset\n",
    "df = pd.read_csv(\"udemy_courses.csv\")\n",
    "print(\"Shape of the dataset is  \",df.shape)\n",
    "df.head()"
   ]
  },
  {
   "cell_type": "markdown",
   "metadata": {},
   "source": [
    "### EDA on Subject/Category"
   ]
  },
  {
   "cell_type": "code",
   "execution_count": 3,
   "metadata": {},
   "outputs": [
    {
     "data": {
      "text/plain": [
       "4"
      ]
     },
     "execution_count": 3,
     "metadata": {},
     "output_type": "execute_result"
    }
   ],
   "source": [
    "#How many subject /category are there in the dataset\n",
    "len(df['subject'].unique())"
   ]
  },
  {
   "cell_type": "code",
   "execution_count": 4,
   "metadata": {},
   "outputs": [
    {
     "data": {
      "text/plain": [
       "Web Development        1200\n",
       "Business Finance       1195\n",
       "Musical Instruments     680\n",
       "Graphic Design          603\n",
       "Name: subject, dtype: int64"
      ]
     },
     "execution_count": 4,
     "metadata": {},
     "output_type": "execute_result"
    }
   ],
   "source": [
    "# Distribution of Subject/Value Counts\n",
    "df['subject'].value_counts()"
   ]
  },
  {
   "cell_type": "code",
   "execution_count": 5,
   "metadata": {},
   "outputs": [
    {
     "data": {
      "image/png": "[encoded data removed]",
      "text/plain": [
       "<Figure size 720x504 with 1 Axes>"
      ]
     },
     "metadata": {
      "needs_background": "light"
     },
     "output_type": "display_data"
    }
   ],
   "source": [
    "# Plot Distribution of Subject/Value Counts using seaborn\n",
    "plt.figure(figsize=(10,7))\n",
    "sns.countplot(df['subject'],palette=\"Dark2\")\n",
    "plt.title(\"Plot of Value Count of Subject\")\n",
    "plt.xticks(rotation=0)\n",
    "plt.show()"
   ]
  },
  {
   "cell_type": "markdown",
   "metadata": {},
   "source": [
    "### EDA on Subscribers "
   ]
  },
  {
   "cell_type": "code",
   "execution_count": 6,
   "metadata": {},
   "outputs": [
    {
     "data": {
      "text/html": [
       "<div>\n",
       "<style scoped>\n",
       "    .dataframe tbody tr th:only-of-type {\n",
       "        vertical-align: middle;\n",
       "    }\n",
       "\n",
       "    .dataframe tbody tr th {\n",
       "        vertical-align: top;\n",
       "    }\n",
       "\n",
       "    .dataframe thead th {\n",
       "        text-align: right;\n",
       "    }\n",
       "</style>\n",
       "<table border=\"1\" class=\"dataframe\">\n",
       "  <thead>\n",
       "    <tr style=\"text-align: right;\">\n",
       "      <th></th>\n",
       "      <th>course_id</th>\n",
       "      <th>course_title</th>\n",
       "      <th>url</th>\n",
       "      <th>is_paid</th>\n",
       "      <th>price</th>\n",
       "      <th>num_subscribers</th>\n",
       "      <th>num_reviews</th>\n",
       "      <th>num_lectures</th>\n",
       "      <th>level</th>\n",
       "      <th>content_duration</th>\n",
       "      <th>published_timestamp</th>\n",
       "      <th>subject</th>\n",
       "    </tr>\n",
       "  </thead>\n",
       "  <tbody>\n",
       "    <tr>\n",
       "      <th>0</th>\n",
       "      <td>1070968</td>\n",
       "      <td>Ultimate Investment Banking Course</td>\n",
       "      <td>https://www.udemy.com/ultimate-investment-bank...</td>\n",
       "      <td>True</td>\n",
       "      <td>200</td>\n",
       "      <td>2147</td>\n",
       "      <td>23</td>\n",
       "      <td>51</td>\n",
       "      <td>All Levels</td>\n",
       "      <td>1.5</td>\n",
       "      <td>2017-01-18T20:58:58Z</td>\n",
       "      <td>Business Finance</td>\n",
       "    </tr>\n",
       "    <tr>\n",
       "      <th>1</th>\n",
       "      <td>1113822</td>\n",
       "      <td>Complete GST Course &amp; Certification - Grow You...</td>\n",
       "      <td>https://www.udemy.com/goods-and-services-tax/</td>\n",
       "      <td>True</td>\n",
       "      <td>75</td>\n",
       "      <td>2792</td>\n",
       "      <td>923</td>\n",
       "      <td>274</td>\n",
       "      <td>All Levels</td>\n",
       "      <td>39.0</td>\n",
       "      <td>2017-03-09T16:34:20Z</td>\n",
       "      <td>Business Finance</td>\n",
       "    </tr>\n",
       "    <tr>\n",
       "      <th>2</th>\n",
       "      <td>1006314</td>\n",
       "      <td>Financial Modeling for Business Analysts and C...</td>\n",
       "      <td>https://www.udemy.com/financial-modeling-for-b...</td>\n",
       "      <td>True</td>\n",
       "      <td>45</td>\n",
       "      <td>2174</td>\n",
       "      <td>74</td>\n",
       "      <td>51</td>\n",
       "      <td>Intermediate Level</td>\n",
       "      <td>2.5</td>\n",
       "      <td>2016-12-19T19:26:30Z</td>\n",
       "      <td>Business Finance</td>\n",
       "    </tr>\n",
       "    <tr>\n",
       "      <th>3</th>\n",
       "      <td>1210588</td>\n",
       "      <td>Beginner to Pro - Financial Analysis in Excel ...</td>\n",
       "      <td>https://www.udemy.com/complete-excel-finance-c...</td>\n",
       "      <td>True</td>\n",
       "      <td>95</td>\n",
       "      <td>2451</td>\n",
       "      <td>11</td>\n",
       "      <td>36</td>\n",
       "      <td>All Levels</td>\n",
       "      <td>3.0</td>\n",
       "      <td>2017-05-30T20:07:24Z</td>\n",
       "      <td>Business Finance</td>\n",
       "    </tr>\n",
       "    <tr>\n",
       "      <th>4</th>\n",
       "      <td>1011058</td>\n",
       "      <td>How To Maximize Your Profits Trading Options</td>\n",
       "      <td>https://www.udemy.com/how-to-maximize-your-pro...</td>\n",
       "      <td>True</td>\n",
       "      <td>200</td>\n",
       "      <td>1276</td>\n",
       "      <td>45</td>\n",
       "      <td>26</td>\n",
       "      <td>Intermediate Level</td>\n",
       "      <td>2.0</td>\n",
       "      <td>2016-12-13T14:57:18Z</td>\n",
       "      <td>Business Finance</td>\n",
       "    </tr>\n",
       "  </tbody>\n",
       "</table>\n",
       "</div>"
      ],
      "text/plain": [
       "   course_id                                       course_title  \\\n",
       "0    1070968                 Ultimate Investment Banking Course   \n",
       "1    1113822  Complete GST Course & Certification - Grow You...   \n",
       "2    1006314  Financial Modeling for Business Analysts and C...   \n",
       "3    1210588  Beginner to Pro - Financial Analysis in Excel ...   \n",
       "4    1011058       How To Maximize Your Profits Trading Options   \n",
       "\n",
       "                                                 url  is_paid  price  \\\n",
       "0  https://www.udemy.com/ultimate-investment-bank...     True    200   \n",
       "1      https://www.udemy.com/goods-and-services-tax/     True     75   \n",
       "2  https://www.udemy.com/financial-modeling-for-b...     True     45   \n",
       "3  https://www.udemy.com/complete-excel-finance-c...     True     95   \n",
       "4  https://www.udemy.com/how-to-maximize-your-pro...     True    200   \n",
       "\n",
       "   num_subscribers  num_reviews  num_lectures               level  \\\n",
       "0             2147           23            51          All Levels   \n",
       "1             2792          923           274          All Levels   \n",
       "2             2174           74            51  Intermediate Level   \n",
       "3             2451           11            36          All Levels   \n",
       "4             1276           45            26  Intermediate Level   \n",
       "\n",
       "   content_duration   published_timestamp           subject  \n",
       "0               1.5  2017-01-18T20:58:58Z  Business Finance  \n",
       "1              39.0  2017-03-09T16:34:20Z  Business Finance  \n",
       "2               2.5  2016-12-19T19:26:30Z  Business Finance  \n",
       "3               3.0  2017-05-30T20:07:24Z  Business Finance  \n",
       "4               2.0  2016-12-13T14:57:18Z  Business Finance  "
      ]
     },
     "execution_count": 6,
     "metadata": {},
     "output_type": "execute_result"
    }
   ],
   "source": [
    "df.head()"
   ]
  },
  {
   "cell_type": "code",
   "execution_count": 7,
   "metadata": {},
   "outputs": [
    {
     "data": {
      "text/plain": [
       "Web Development        1200\n",
       "Business Finance       1195\n",
       "Musical Instruments     680\n",
       "Graphic Design          603\n",
       "Name: subject, dtype: int64"
      ]
     },
     "execution_count": 7,
     "metadata": {},
     "output_type": "execute_result"
    }
   ],
   "source": [
    "# Number of Courses per Subject\n",
    "df['subject'].value_counts()"
   ]
  },
  {
   "cell_type": "code",
   "execution_count": 8,
   "metadata": {},
   "outputs": [
    {
     "data": {
      "text/plain": [
       "subject\n",
       "Business Finance       1868711\n",
       "Graphic Design         1063148\n",
       "Musical Instruments     846689\n",
       "Web Development        7980572\n",
       "Name: num_subscribers, dtype: int64"
      ]
     },
     "execution_count": 8,
     "metadata": {},
     "output_type": "execute_result"
    }
   ],
   "source": [
    "# Number of subscribers per Subject\n",
    "df.groupby('subject')['num_subscribers'].sum()"
   ]
  },
  {
   "cell_type": "code",
   "execution_count": 9,
   "metadata": {},
   "outputs": [
    {
     "data": {
      "text/plain": [
       "<matplotlib.axes._subplots.AxesSubplot at 0x2ad58a07d88>"
      ]
     },
     "execution_count": 9,
     "metadata": {},
     "output_type": "execute_result"
    },
    {
     "data": {
      "image/png": "[encoded data removed]",
      "text/plain": [
       "<Figure size 432x288 with 1 Axes>"
      ]
     },
     "metadata": {},
     "output_type": "display_data"
    }
   ],
   "source": [
    "#Plot of number of subscribers per subject\n",
    "df.groupby('subject')['num_subscribers'].sum().plot(kind='pie')"
   ]
  },
  {
   "cell_type": "markdown",
   "metadata": {},
   "source": [
    "From this pie chart we can see that more no of subscribers are for Web Development than Business Finance."
   ]
  },
  {
   "cell_type": "code",
   "execution_count": 10,
   "metadata": {},
   "outputs": [
    {
     "data": {
      "text/plain": [
       "11759120"
      ]
     },
     "execution_count": 10,
     "metadata": {},
     "output_type": "execute_result"
    }
   ],
   "source": [
    "#Total number of subscribers\n",
    "df['num_subscribers'].sum()"
   ]
  },
  {
   "cell_type": "code",
   "execution_count": 11,
   "metadata": {},
   "outputs": [
    {
     "data": {
      "text/plain": [
       "count      3678.000000\n",
       "mean       3197.150625\n",
       "std        9504.117010\n",
       "min           0.000000\n",
       "25%         111.000000\n",
       "50%         911.500000\n",
       "75%        2546.000000\n",
       "max      268923.000000\n",
       "Name: num_subscribers, dtype: float64"
      ]
     },
     "execution_count": 11,
     "metadata": {},
     "output_type": "execute_result"
    }
   ],
   "source": [
    "#Overall Descriptive statistics of num of subscribers\n",
    "df['num_subscribers'].describe()"
   ]
  },
  {
   "cell_type": "code",
   "execution_count": 12,
   "metadata": {},
   "outputs": [
    {
     "data": {
      "text/plain": [
       "2827"
      ]
     },
     "execution_count": 12,
     "metadata": {},
     "output_type": "execute_result"
    }
   ],
   "source": [
    "#which course has the highest number of subscribers\n",
    "df['num_subscribers'].idxmax()"
   ]
  },
  {
   "cell_type": "code",
   "execution_count": 13,
   "metadata": {},
   "outputs": [
    {
     "data": {
      "text/plain": [
       "course_id                                                         984072\n",
       "course_title           Build Modern Websites Quick With HTML,CSS and ...\n",
       "url                    https://www.udemy.com/build-modern-websites-qu...\n",
       "is_paid                                                             True\n",
       "price                                                                 20\n",
       "num_subscribers                                                      912\n",
       "num_reviews                                                           17\n",
       "num_lectures                                                          48\n",
       "level                                                     Beginner Level\n",
       "content_duration                                                     4.5\n",
       "published_timestamp                                 2016-10-18T15:48:43Z\n",
       "subject                                                  Web Development\n",
       "Name: 2832, dtype: object"
      ]
     },
     "execution_count": 13,
     "metadata": {},
     "output_type": "execute_result"
    }
   ],
   "source": [
    "# Get the location\n",
    "df.iloc[2832]"
   ]
  },
  {
   "cell_type": "markdown",
   "metadata": {},
   "source": [
    "Udemy has over 11 million subscribers.The Course named \"Build Modern Websites Quick With HTML,CSS AND..\" has the highest number of subscribers counting around 10 lakhs.The average number of subscribers for the courses is 3197."
   ]
  },
  {
   "cell_type": "markdown",
   "metadata": {},
   "source": [
    "### EDA on levels\n"
   ]
  },
  {
   "cell_type": "code",
   "execution_count": 14,
   "metadata": {},
   "outputs": [
    {
     "data": {
      "text/plain": [
       "array(['All Levels', 'Intermediate Level', 'Beginner Level',\n",
       "       'Expert Level'], dtype=object)"
      ]
     },
     "execution_count": 14,
     "metadata": {},
     "output_type": "execute_result"
    }
   ],
   "source": [
    "#no of different levels\n",
    "df['level'].unique()"
   ]
  },
  {
   "cell_type": "code",
   "execution_count": 15,
   "metadata": {},
   "outputs": [
    {
     "data": {
      "text/plain": [
       "All Levels            1929\n",
       "Beginner Level        1270\n",
       "Intermediate Level     421\n",
       "Expert Level            58\n",
       "Name: level, dtype: int64"
      ]
     },
     "execution_count": 15,
     "metadata": {},
     "output_type": "execute_result"
    }
   ],
   "source": [
    "#Distribution of courses per levels\n",
    "df['level'].value_counts()"
   ]
  },
  {
   "cell_type": "code",
   "execution_count": 16,
   "metadata": {},
   "outputs": [
    {
     "data": {
      "text/plain": [
       "<matplotlib.axes._subplots.AxesSubplot at 0x2ad58a78648>"
      ]
     },
     "execution_count": 16,
     "metadata": {},
     "output_type": "execute_result"
    },
    {
     "data": {
      "image/png": "[encoded data removed]",
      "text/plain": [
       "<Figure size 432x288 with 1 Axes>"
      ]
     },
     "metadata": {},
     "output_type": "display_data"
    }
   ],
   "source": [
    "#Distribution of courses per levels (pieplot)\n",
    "df['level'].value_counts().plot(kind='pie')"
   ]
  },
  {
   "cell_type": "code",
   "execution_count": 17,
   "metadata": {},
   "outputs": [
    {
     "data": {
      "image/png": "[encoded data removed]",
      "text/plain": [
       "<Figure size 1440x720 with 1 Axes>"
      ]
     },
     "metadata": {
      "needs_background": "light"
     },
     "output_type": "display_data"
    }
   ],
   "source": [
    "# Plot of How many subscribers per levels for each subjects using seaborn\n",
    "plt.figure(figsize=(20,10))\n",
    "sns.barplot(x='level',y='num_subscribers', hue='subject',data=df)\n",
    "plt.show()"
   ]
  },
  {
   "cell_type": "code",
   "execution_count": 18,
   "metadata": {},
   "outputs": [
    {
     "data": {
      "image/png": "[encoded data removed]",
      "text/plain": [
       "<Figure size 1440x720 with 1 Axes>"
      ]
     },
     "metadata": {
      "needs_background": "light"
     },
     "output_type": "display_data"
    }
   ],
   "source": [
    "#plot of how many lectures per levels for each subjects\n",
    "plt.figure(figsize=(20,10))\n",
    "sns.barplot(x='level',y='num_lectures', hue='subject',data=df,ci=None)\n",
    "plt.show()"
   ]
  },
  {
   "cell_type": "markdown",
   "metadata": {},
   "source": [
    "### EDA on price"
   ]
  },
  {
   "cell_type": "code",
   "execution_count": 19,
   "metadata": {},
   "outputs": [
    {
     "data": {
      "text/html": [
       "<div>\n",
       "<style scoped>\n",
       "    .dataframe tbody tr th:only-of-type {\n",
       "        vertical-align: middle;\n",
       "    }\n",
       "\n",
       "    .dataframe tbody tr th {\n",
       "        vertical-align: top;\n",
       "    }\n",
       "\n",
       "    .dataframe thead th {\n",
       "        text-align: right;\n",
       "    }\n",
       "</style>\n",
       "<table border=\"1\" class=\"dataframe\">\n",
       "  <thead>\n",
       "    <tr style=\"text-align: right;\">\n",
       "      <th></th>\n",
       "      <th>course_id</th>\n",
       "      <th>course_title</th>\n",
       "      <th>url</th>\n",
       "      <th>is_paid</th>\n",
       "      <th>price</th>\n",
       "      <th>num_subscribers</th>\n",
       "      <th>num_reviews</th>\n",
       "      <th>num_lectures</th>\n",
       "      <th>level</th>\n",
       "      <th>content_duration</th>\n",
       "      <th>published_timestamp</th>\n",
       "      <th>subject</th>\n",
       "    </tr>\n",
       "  </thead>\n",
       "  <tbody>\n",
       "    <tr>\n",
       "      <th>0</th>\n",
       "      <td>1070968</td>\n",
       "      <td>Ultimate Investment Banking Course</td>\n",
       "      <td>https://www.udemy.com/ultimate-investment-bank...</td>\n",
       "      <td>True</td>\n",
       "      <td>200</td>\n",
       "      <td>2147</td>\n",
       "      <td>23</td>\n",
       "      <td>51</td>\n",
       "      <td>All Levels</td>\n",
       "      <td>1.5</td>\n",
       "      <td>2017-01-18T20:58:58Z</td>\n",
       "      <td>Business Finance</td>\n",
       "    </tr>\n",
       "    <tr>\n",
       "      <th>1</th>\n",
       "      <td>1113822</td>\n",
       "      <td>Complete GST Course &amp; Certification - Grow You...</td>\n",
       "      <td>https://www.udemy.com/goods-and-services-tax/</td>\n",
       "      <td>True</td>\n",
       "      <td>75</td>\n",
       "      <td>2792</td>\n",
       "      <td>923</td>\n",
       "      <td>274</td>\n",
       "      <td>All Levels</td>\n",
       "      <td>39.0</td>\n",
       "      <td>2017-03-09T16:34:20Z</td>\n",
       "      <td>Business Finance</td>\n",
       "    </tr>\n",
       "    <tr>\n",
       "      <th>2</th>\n",
       "      <td>1006314</td>\n",
       "      <td>Financial Modeling for Business Analysts and C...</td>\n",
       "      <td>https://www.udemy.com/financial-modeling-for-b...</td>\n",
       "      <td>True</td>\n",
       "      <td>45</td>\n",
       "      <td>2174</td>\n",
       "      <td>74</td>\n",
       "      <td>51</td>\n",
       "      <td>Intermediate Level</td>\n",
       "      <td>2.5</td>\n",
       "      <td>2016-12-19T19:26:30Z</td>\n",
       "      <td>Business Finance</td>\n",
       "    </tr>\n",
       "    <tr>\n",
       "      <th>3</th>\n",
       "      <td>1210588</td>\n",
       "      <td>Beginner to Pro - Financial Analysis in Excel ...</td>\n",
       "      <td>https://www.udemy.com/complete-excel-finance-c...</td>\n",
       "      <td>True</td>\n",
       "      <td>95</td>\n",
       "      <td>2451</td>\n",
       "      <td>11</td>\n",
       "      <td>36</td>\n",
       "      <td>All Levels</td>\n",
       "      <td>3.0</td>\n",
       "      <td>2017-05-30T20:07:24Z</td>\n",
       "      <td>Business Finance</td>\n",
       "    </tr>\n",
       "    <tr>\n",
       "      <th>4</th>\n",
       "      <td>1011058</td>\n",
       "      <td>How To Maximize Your Profits Trading Options</td>\n",
       "      <td>https://www.udemy.com/how-to-maximize-your-pro...</td>\n",
       "      <td>True</td>\n",
       "      <td>200</td>\n",
       "      <td>1276</td>\n",
       "      <td>45</td>\n",
       "      <td>26</td>\n",
       "      <td>Intermediate Level</td>\n",
       "      <td>2.0</td>\n",
       "      <td>2016-12-13T14:57:18Z</td>\n",
       "      <td>Business Finance</td>\n",
       "    </tr>\n",
       "  </tbody>\n",
       "</table>\n",
       "</div>"
      ],
      "text/plain": [
       "   course_id                                       course_title  \\\n",
       "0    1070968                 Ultimate Investment Banking Course   \n",
       "1    1113822  Complete GST Course & Certification - Grow You...   \n",
       "2    1006314  Financial Modeling for Business Analysts and C...   \n",
       "3    1210588  Beginner to Pro - Financial Analysis in Excel ...   \n",
       "4    1011058       How To Maximize Your Profits Trading Options   \n",
       "\n",
       "                                                 url  is_paid  price  \\\n",
       "0  https://www.udemy.com/ultimate-investment-bank...     True    200   \n",
       "1      https://www.udemy.com/goods-and-services-tax/     True     75   \n",
       "2  https://www.udemy.com/financial-modeling-for-b...     True     45   \n",
       "3  https://www.udemy.com/complete-excel-finance-c...     True     95   \n",
       "4  https://www.udemy.com/how-to-maximize-your-pro...     True    200   \n",
       "\n",
       "   num_subscribers  num_reviews  num_lectures               level  \\\n",
       "0             2147           23            51          All Levels   \n",
       "1             2792          923           274          All Levels   \n",
       "2             2174           74            51  Intermediate Level   \n",
       "3             2451           11            36          All Levels   \n",
       "4             1276           45            26  Intermediate Level   \n",
       "\n",
       "   content_duration   published_timestamp           subject  \n",
       "0               1.5  2017-01-18T20:58:58Z  Business Finance  \n",
       "1              39.0  2017-03-09T16:34:20Z  Business Finance  \n",
       "2               2.5  2016-12-19T19:26:30Z  Business Finance  \n",
       "3               3.0  2017-05-30T20:07:24Z  Business Finance  \n",
       "4               2.0  2016-12-13T14:57:18Z  Business Finance  "
      ]
     },
     "execution_count": 19,
     "metadata": {},
     "output_type": "execute_result"
    }
   ],
   "source": [
    "df.head()"
   ]
  },
  {
   "cell_type": "code",
   "execution_count": 20,
   "metadata": {},
   "outputs": [
    {
     "data": {
      "text/plain": [
       "dtype('int64')"
      ]
     },
     "execution_count": 20,
     "metadata": {},
     "output_type": "execute_result"
    }
   ],
   "source": [
    "# Datatype\n",
    "df['price'].dtype"
   ]
  },
  {
   "cell_type": "code",
   "execution_count": 21,
   "metadata": {},
   "outputs": [
    {
     "data": {
      "text/plain": [
       "array([200,  75,  45,  95, 150,  65, 195,  30,  20,  50, 175, 140, 115,\n",
       "       190, 125,  60, 145, 105, 155, 185, 180, 120,  25, 160,  40,   0,\n",
       "       100,  90,  35,  80,  70,  55, 165, 130,  85, 170, 110, 135],\n",
       "      dtype=int64)"
      ]
     },
     "execution_count": 21,
     "metadata": {},
     "output_type": "execute_result"
    }
   ],
   "source": [
    "# unique price\n",
    "df.price.unique()"
   ]
  },
  {
   "cell_type": "code",
   "execution_count": 22,
   "metadata": {},
   "outputs": [],
   "source": [
    "df['price'] = df['price'].astype(float)"
   ]
  },
  {
   "cell_type": "code",
   "execution_count": 23,
   "metadata": {},
   "outputs": [
    {
     "data": {
      "text/plain": [
       "66.0494834148994"
      ]
     },
     "execution_count": 23,
     "metadata": {},
     "output_type": "execute_result"
    }
   ],
   "source": [
    "#Average price\n",
    "df['price'].mean()"
   ]
  },
  {
   "cell_type": "code",
   "execution_count": 24,
   "metadata": {},
   "outputs": [
    {
     "data": {
      "text/plain": [
       "200.0"
      ]
     },
     "execution_count": 24,
     "metadata": {},
     "output_type": "execute_result"
    }
   ],
   "source": [
    "#Max price\n",
    "df['price'].max()"
   ]
  },
  {
   "cell_type": "code",
   "execution_count": 25,
   "metadata": {},
   "outputs": [
    {
     "data": {
      "text/plain": [
       "0"
      ]
     },
     "execution_count": 25,
     "metadata": {},
     "output_type": "execute_result"
    }
   ],
   "source": [
    "#Max price location\n",
    "df['price'].idxmax()"
   ]
  },
  {
   "cell_type": "code",
   "execution_count": 26,
   "metadata": {},
   "outputs": [
    {
     "data": {
      "text/plain": [
       "course_id                                                        1070968\n",
       "course_title                          Ultimate Investment Banking Course\n",
       "url                    https://www.udemy.com/ultimate-investment-bank...\n",
       "is_paid                                                             True\n",
       "price                                                                200\n",
       "num_subscribers                                                     2147\n",
       "num_reviews                                                           23\n",
       "num_lectures                                                          51\n",
       "level                                                         All Levels\n",
       "content_duration                                                     1.5\n",
       "published_timestamp                                 2017-01-18T20:58:58Z\n",
       "subject                                                 Business Finance\n",
       "Name: 0, dtype: object"
      ]
     },
     "execution_count": 26,
     "metadata": {},
     "output_type": "execute_result"
    }
   ],
   "source": [
    "df.iloc[0]"
   ]
  },
  {
   "cell_type": "markdown",
   "metadata": {},
   "source": [
    "The most costly course currently in Udemy is Ultimate Investment Banking Course which is 200 dollars."
   ]
  },
  {
   "cell_type": "code",
   "execution_count": 27,
   "metadata": {},
   "outputs": [],
   "source": [
    "# What is the most profitable course\n",
    "# price x num_subscriber\n",
    "df['profit'] = df['price'] * df['num_subscribers']"
   ]
  },
  {
   "cell_type": "code",
   "execution_count": 28,
   "metadata": {},
   "outputs": [
    {
     "data": {
      "text/plain": [
       "24316800.0"
      ]
     },
     "execution_count": 28,
     "metadata": {},
     "output_type": "execute_result"
    }
   ],
   "source": [
    "# What is the most profitable\n",
    "df['profit'].max()"
   ]
  },
  {
   "cell_type": "markdown",
   "metadata": {},
   "source": [
    "Most profitable course has made about 24 million."
   ]
  },
  {
   "cell_type": "code",
   "execution_count": 29,
   "metadata": {},
   "outputs": [
    {
     "data": {
      "text/plain": [
       "3230"
      ]
     },
     "execution_count": 29,
     "metadata": {},
     "output_type": "execute_result"
    }
   ],
   "source": [
    "# The location of course\n",
    "df['profit'].idxmax()"
   ]
  },
  {
   "cell_type": "code",
   "execution_count": 30,
   "metadata": {},
   "outputs": [
    {
     "data": {
      "text/plain": [
       "course_id                                                         866696\n",
       "course_title                                 REST WCF Service in ASP.NET\n",
       "url                    https://www.udemy.com/rest-wcf-service-in-aspnet/\n",
       "is_paid                                                            False\n",
       "price                                                                  0\n",
       "num_subscribers                                                     7905\n",
       "num_reviews                                                          561\n",
       "num_lectures                                                           5\n",
       "level                                                         All Levels\n",
       "content_duration                                                0.683333\n",
       "published_timestamp                                 2016-06-08T17:28:16Z\n",
       "subject                                                  Web Development\n",
       "profit                                                                 0\n",
       "Name: 3235, dtype: object"
      ]
     },
     "execution_count": 30,
     "metadata": {},
     "output_type": "execute_result"
    }
   ],
   "source": [
    "df.iloc[3235]"
   ]
  },
  {
   "cell_type": "markdown",
   "metadata": {},
   "source": [
    "The course named REST WCF Service in ASP.NET is obtaining the most profitable course in Udemy."
   ]
  },
  {
   "cell_type": "markdown",
   "metadata": {},
   "source": [
    "#### Courses which are Paid and Free"
   ]
  },
  {
   "cell_type": "code",
   "execution_count": 31,
   "metadata": {
    "scrolled": true
   },
   "outputs": [
    {
     "data": {
      "text/plain": [
       "True     3368\n",
       "False     310\n",
       "Name: is_paid, dtype: int64"
      ]
     },
     "execution_count": 31,
     "metadata": {},
     "output_type": "execute_result"
    }
   ],
   "source": [
    "### How Many Courses on Udemy Are paid or free\n",
    "df['is_paid'].value_counts()"
   ]
  },
  {
   "cell_type": "code",
   "execution_count": 32,
   "metadata": {},
   "outputs": [
    {
     "data": {
      "text/plain": [
       "<matplotlib.axes._subplots.AxesSubplot at 0x2ad5904e6c8>"
      ]
     },
     "execution_count": 32,
     "metadata": {},
     "output_type": "execute_result"
    },
    {
     "data": {
      "image/png": "[encoded data removed]",
      "text/plain": [
       "<Figure size 432x288 with 1 Axes>"
      ]
     },
     "metadata": {
      "needs_background": "light"
     },
     "output_type": "display_data"
    }
   ],
   "source": [
    "#plot of the paid and free\n",
    "sns.countplot(df['is_paid'])"
   ]
  },
  {
   "cell_type": "code",
   "execution_count": 33,
   "metadata": {},
   "outputs": [
    {
     "data": {
      "text/plain": [
       "is_paid  subject            \n",
       "False    Web Development         133\n",
       "         Business Finance         96\n",
       "         Musical Instruments      46\n",
       "         Graphic Design           35\n",
       "True     Business Finance       1099\n",
       "         Web Development        1067\n",
       "         Musical Instruments     634\n",
       "         Graphic Design          568\n",
       "Name: subject, dtype: int64"
      ]
     },
     "execution_count": 33,
     "metadata": {},
     "output_type": "execute_result"
    }
   ],
   "source": [
    "#paid/free courses in each subject category\n",
    "df.groupby('is_paid')['subject'].value_counts()"
   ]
  },
  {
   "cell_type": "code",
   "execution_count": 34,
   "metadata": {},
   "outputs": [
    {
     "data": {
      "image/png": "[encoded data removed]",
      "text/plain": [
       "<Figure size 720x504 with 1 Axes>"
      ]
     },
     "metadata": {
      "needs_background": "light"
     },
     "output_type": "display_data"
    }
   ],
   "source": [
    "#plot of paid courses in each subject with respect to level\n",
    "plt.figure(figsize=(10,7))\n",
    "sns.barplot(x='level',y='is_paid', hue='subject',data=df,ci=None)\n",
    "plt.show()"
   ]
  },
  {
   "cell_type": "markdown",
   "metadata": {},
   "source": [
    "### Correlation"
   ]
  },
  {
   "cell_type": "code",
   "execution_count": 35,
   "metadata": {},
   "outputs": [
    {
     "data": {
      "text/plain": [
       "<matplotlib.axes._subplots.AxesSubplot at 0x2ad58cd4d48>"
      ]
     },
     "execution_count": 35,
     "metadata": {},
     "output_type": "execute_result"
    },
    {
     "data": {
      "image/png": "[encoded data removed]",
      "text/plain": [
       "<Figure size 432x288 with 1 Axes>"
      ]
     },
     "metadata": {
      "needs_background": "light"
     },
     "output_type": "display_data"
    }
   ],
   "source": [
    "#Relationship between price and num_subscribers\n",
    "sns.scatterplot(data=df,x=\"price\",y='num_subscribers')"
   ]
  },
  {
   "cell_type": "code",
   "execution_count": 36,
   "metadata": {},
   "outputs": [
    {
     "data": {
      "text/plain": [
       "<matplotlib.axes._subplots.AxesSubplot at 0x2ad50888e88>"
      ]
     },
     "execution_count": 36,
     "metadata": {},
     "output_type": "execute_result"
    },
    {
     "data": {
      "image/png": "[encoded data removed]",
      "text/plain": [
       "<Figure size 432x288 with 1 Axes>"
      ]
     },
     "metadata": {
      "needs_background": "light"
     },
     "output_type": "display_data"
    }
   ],
   "source": [
    "#Relationship between price and num_reviews\n",
    "sns.scatterplot(data=df,x='price',y='num_reviews')"
   ]
  },
  {
   "cell_type": "code",
   "execution_count": 37,
   "metadata": {},
   "outputs": [
    {
     "data": {
      "image/png": "[encoded data removed]",
      "text/plain": [
       "<Figure size 1440x720 with 1 Axes>"
      ]
     },
     "metadata": {
      "needs_background": "light"
     },
     "output_type": "display_data"
    }
   ],
   "source": [
    "#Price influence for subscription per subject category \n",
    "plt.figure(figsize=(20,10))\n",
    "plt.title(\"Price Influence Subscription Per Subject Category\")\n",
    "sns.lineplot(data=df,x='price',y='num_subscribers',hue='subject')\n",
    "plt.show()"
   ]
  },
  {
   "cell_type": "code",
   "execution_count": 38,
   "metadata": {},
   "outputs": [
    {
     "data": {
      "image/png": "[encoded data removed]",
      "text/plain": [
       "<Figure size 1440x720 with 1 Axes>"
      ]
     },
     "metadata": {
      "needs_background": "light"
     },
     "output_type": "display_data"
    }
   ],
   "source": [
    "#Reviews influence on subscription per subject category \n",
    "plt.figure(figsize=(20,10))\n",
    "plt.title(\"Reviews Influence on Subscription Per Subject Category\")\n",
    "sns.lineplot(data=df,x='num_reviews',y='num_subscribers',hue='subject')\n",
    "plt.show()"
   ]
  },
  {
   "cell_type": "markdown",
   "metadata": {},
   "source": [
    "### EDA on course title"
   ]
  },
  {
   "cell_type": "code",
   "execution_count": 39,
   "metadata": {},
   "outputs": [
    {
     "data": {
      "text/html": [
       "<div>\n",
       "<style scoped>\n",
       "    .dataframe tbody tr th:only-of-type {\n",
       "        vertical-align: middle;\n",
       "    }\n",
       "\n",
       "    .dataframe tbody tr th {\n",
       "        vertical-align: top;\n",
       "    }\n",
       "\n",
       "    .dataframe thead th {\n",
       "        text-align: right;\n",
       "    }\n",
       "</style>\n",
       "<table border=\"1\" class=\"dataframe\">\n",
       "  <thead>\n",
       "    <tr style=\"text-align: right;\">\n",
       "      <th></th>\n",
       "      <th>course_id</th>\n",
       "      <th>course_title</th>\n",
       "      <th>url</th>\n",
       "      <th>is_paid</th>\n",
       "      <th>price</th>\n",
       "      <th>num_subscribers</th>\n",
       "      <th>num_reviews</th>\n",
       "      <th>num_lectures</th>\n",
       "      <th>level</th>\n",
       "      <th>content_duration</th>\n",
       "      <th>published_timestamp</th>\n",
       "      <th>subject</th>\n",
       "      <th>profit</th>\n",
       "    </tr>\n",
       "  </thead>\n",
       "  <tbody>\n",
       "    <tr>\n",
       "      <th>0</th>\n",
       "      <td>1070968</td>\n",
       "      <td>Ultimate Investment Banking Course</td>\n",
       "      <td>https://www.udemy.com/ultimate-investment-bank...</td>\n",
       "      <td>True</td>\n",
       "      <td>200.0</td>\n",
       "      <td>2147</td>\n",
       "      <td>23</td>\n",
       "      <td>51</td>\n",
       "      <td>All Levels</td>\n",
       "      <td>1.5</td>\n",
       "      <td>2017-01-18T20:58:58Z</td>\n",
       "      <td>Business Finance</td>\n",
       "      <td>429400.0</td>\n",
       "    </tr>\n",
       "    <tr>\n",
       "      <th>1</th>\n",
       "      <td>1113822</td>\n",
       "      <td>Complete GST Course &amp; Certification - Grow You...</td>\n",
       "      <td>https://www.udemy.com/goods-and-services-tax/</td>\n",
       "      <td>True</td>\n",
       "      <td>75.0</td>\n",
       "      <td>2792</td>\n",
       "      <td>923</td>\n",
       "      <td>274</td>\n",
       "      <td>All Levels</td>\n",
       "      <td>39.0</td>\n",
       "      <td>2017-03-09T16:34:20Z</td>\n",
       "      <td>Business Finance</td>\n",
       "      <td>209400.0</td>\n",
       "    </tr>\n",
       "    <tr>\n",
       "      <th>2</th>\n",
       "      <td>1006314</td>\n",
       "      <td>Financial Modeling for Business Analysts and C...</td>\n",
       "      <td>https://www.udemy.com/financial-modeling-for-b...</td>\n",
       "      <td>True</td>\n",
       "      <td>45.0</td>\n",
       "      <td>2174</td>\n",
       "      <td>74</td>\n",
       "      <td>51</td>\n",
       "      <td>Intermediate Level</td>\n",
       "      <td>2.5</td>\n",
       "      <td>2016-12-19T19:26:30Z</td>\n",
       "      <td>Business Finance</td>\n",
       "      <td>97830.0</td>\n",
       "    </tr>\n",
       "    <tr>\n",
       "      <th>3</th>\n",
       "      <td>1210588</td>\n",
       "      <td>Beginner to Pro - Financial Analysis in Excel ...</td>\n",
       "      <td>https://www.udemy.com/complete-excel-finance-c...</td>\n",
       "      <td>True</td>\n",
       "      <td>95.0</td>\n",
       "      <td>2451</td>\n",
       "      <td>11</td>\n",
       "      <td>36</td>\n",
       "      <td>All Levels</td>\n",
       "      <td>3.0</td>\n",
       "      <td>2017-05-30T20:07:24Z</td>\n",
       "      <td>Business Finance</td>\n",
       "      <td>232845.0</td>\n",
       "    </tr>\n",
       "    <tr>\n",
       "      <th>4</th>\n",
       "      <td>1011058</td>\n",
       "      <td>How To Maximize Your Profits Trading Options</td>\n",
       "      <td>https://www.udemy.com/how-to-maximize-your-pro...</td>\n",
       "      <td>True</td>\n",
       "      <td>200.0</td>\n",
       "      <td>1276</td>\n",
       "      <td>45</td>\n",
       "      <td>26</td>\n",
       "      <td>Intermediate Level</td>\n",
       "      <td>2.0</td>\n",
       "      <td>2016-12-13T14:57:18Z</td>\n",
       "      <td>Business Finance</td>\n",
       "      <td>255200.0</td>\n",
       "    </tr>\n",
       "  </tbody>\n",
       "</table>\n",
       "</div>"
      ],
      "text/plain": [
       "   course_id                                       course_title  \\\n",
       "0    1070968                 Ultimate Investment Banking Course   \n",
       "1    1113822  Complete GST Course & Certification - Grow You...   \n",
       "2    1006314  Financial Modeling for Business Analysts and C...   \n",
       "3    1210588  Beginner to Pro - Financial Analysis in Excel ...   \n",
       "4    1011058       How To Maximize Your Profits Trading Options   \n",
       "\n",
       "                                                 url  is_paid  price  \\\n",
       "0  https://www.udemy.com/ultimate-investment-bank...     True  200.0   \n",
       "1      https://www.udemy.com/goods-and-services-tax/     True   75.0   \n",
       "2  https://www.udemy.com/financial-modeling-for-b...     True   45.0   \n",
       "3  https://www.udemy.com/complete-excel-finance-c...     True   95.0   \n",
       "4  https://www.udemy.com/how-to-maximize-your-pro...     True  200.0   \n",
       "\n",
       "   num_subscribers  num_reviews  num_lectures               level  \\\n",
       "0             2147           23            51          All Levels   \n",
       "1             2792          923           274          All Levels   \n",
       "2             2174           74            51  Intermediate Level   \n",
       "3             2451           11            36          All Levels   \n",
       "4             1276           45            26  Intermediate Level   \n",
       "\n",
       "   content_duration   published_timestamp           subject    profit  \n",
       "0               1.5  2017-01-18T20:58:58Z  Business Finance  429400.0  \n",
       "1              39.0  2017-03-09T16:34:20Z  Business Finance  209400.0  \n",
       "2               2.5  2016-12-19T19:26:30Z  Business Finance   97830.0  \n",
       "3               3.0  2017-05-30T20:07:24Z  Business Finance  232845.0  \n",
       "4               2.0  2016-12-13T14:57:18Z  Business Finance  255200.0  "
      ]
     },
     "execution_count": 39,
     "metadata": {},
     "output_type": "execute_result"
    }
   ],
   "source": [
    "df.head()"
   ]
  },
  {
   "cell_type": "code",
   "execution_count": 40,
   "metadata": {},
   "outputs": [
    {
     "data": {
      "text/plain": [
       "0       34\n",
       "1       59\n",
       "2       56\n",
       "3       50\n",
       "4       44\n",
       "        ..\n",
       "3673    56\n",
       "3674    55\n",
       "3675    29\n",
       "3676    54\n",
       "3677    52\n",
       "Name: course_title, Length: 3678, dtype: int64"
      ]
     },
     "execution_count": 40,
     "metadata": {},
     "output_type": "execute_result"
    }
   ],
   "source": [
    "#Longest Title for a course\n",
    "df['course_title'].str.len()"
   ]
  },
  {
   "cell_type": "code",
   "execution_count": 41,
   "metadata": {},
   "outputs": [
    {
     "data": {
      "text/plain": [
       "243"
      ]
     },
     "execution_count": 41,
     "metadata": {},
     "output_type": "execute_result"
    }
   ],
   "source": [
    "df['course_title_len'] = df['course_title'].str.len()\n",
    "df['course_title_len'].max()"
   ]
  },
  {
   "cell_type": "code",
   "execution_count": 42,
   "metadata": {},
   "outputs": [
    {
     "data": {
      "text/plain": [
       "course_id                                                         337320\n",
       "course_title           Cash Flow Valuation: Develop Your Financial Li...\n",
       "url                     https://www.udemy.com/financial-literacy-basics/\n",
       "is_paid                                                             True\n",
       "price                                                                105\n",
       "num_subscribers                                                     2987\n",
       "num_reviews                                                           23\n",
       "num_lectures                                                          19\n",
       "level                                                         All Levels\n",
       "content_duration                                                       2\n",
       "published_timestamp                                 2014-12-22T13:39:16Z\n",
       "subject                                                 Business Finance\n",
       "profit                                                            313635\n",
       "course_title_len                                                      52\n",
       "Name: 243, dtype: object"
      ]
     },
     "execution_count": 42,
     "metadata": {},
     "output_type": "execute_result"
    }
   ],
   "source": [
    "# Get tlocation\n",
    "df.iloc[243]"
   ]
  },
  {
   "cell_type": "markdown",
   "metadata": {},
   "source": [
    "### Keyword Extraction"
   ]
  },
  {
   "cell_type": "code",
   "execution_count": 43,
   "metadata": {},
   "outputs": [
    {
     "data": {
      "text/plain": [
       "0                      Ultimate Investment Banking Course\n",
       "1       Complete GST Course & Certification - Grow You...\n",
       "2       Financial Modeling for Business Analysts and C...\n",
       "3       Beginner to Pro - Financial Analysis in Excel ...\n",
       "4            How To Maximize Your Profits Trading Options\n",
       "                              ...                        \n",
       "3673    Learn jQuery from Scratch - Master of JavaScri...\n",
       "3674    How To Design A WordPress Website With No Codi...\n",
       "3675                        Learn and Build using Polymer\n",
       "3676    CSS Animations: Create Amazing Effects on Your...\n",
       "3677    Using MODX CMS to Build Websites: A Beginner's...\n",
       "Name: course_title, Length: 3678, dtype: object"
      ]
     },
     "execution_count": 43,
     "metadata": {},
     "output_type": "execute_result"
    }
   ],
   "source": [
    "df['course_title']"
   ]
  },
  {
   "cell_type": "code",
   "execution_count": 44,
   "metadata": {},
   "outputs": [],
   "source": [
    "# Text Cleaning to remove stopwords\n",
    "import neattext.functions as nfx"
   ]
  },
  {
   "cell_type": "code",
   "execution_count": 45,
   "metadata": {},
   "outputs": [
    {
     "data": {
      "text/plain": [
       "['BTC_ADDRESS_REGEX',\n",
       " 'CURRENCY_REGEX',\n",
       " 'CURRENCY_SYMB_REGEX',\n",
       " 'Counter',\n",
       " 'DATE_REGEX',\n",
       " 'EMAIL_REGEX',\n",
       " 'EMOJI_REGEX',\n",
       " 'HASTAG_REGEX',\n",
       " 'MASTERCard_REGEX',\n",
       " 'MD5_SHA_REGEX',\n",
       " 'MOST_COMMON_PUNCT_REGEX',\n",
       " 'NUMBERS_REGEX',\n",
       " 'PHONE_REGEX',\n",
       " 'PoBOX_REGEX',\n",
       " 'SPECIAL_CHARACTERS_REGEX',\n",
       " 'STOPWORDS',\n",
       " 'STOPWORDS_de',\n",
       " 'STOPWORDS_en',\n",
       " 'STOPWORDS_es',\n",
       " 'STOPWORDS_fr',\n",
       " 'STOPWORDS_ru',\n",
       " 'STOPWORDS_yo',\n",
       " 'STREET_ADDRESS_REGEX',\n",
       " 'TextFrame',\n",
       " 'URL_PATTERN',\n",
       " 'USER_HANDLES_REGEX',\n",
       " 'VISACard_REGEX',\n",
       " '__builtins__',\n",
       " '__cached__',\n",
       " '__doc__',\n",
       " '__file__',\n",
       " '__generate_text',\n",
       " '__loader__',\n",
       " '__name__',\n",
       " '__numbers_dict',\n",
       " '__package__',\n",
       " '__spec__',\n",
       " '_lex_richness_herdan',\n",
       " '_lex_richness_maas_ttr',\n",
       " 'clean_text',\n",
       " 'defaultdict',\n",
       " 'digit2words',\n",
       " 'extract_btc_address',\n",
       " 'extract_currencies',\n",
       " 'extract_currency_symbols',\n",
       " 'extract_dates',\n",
       " 'extract_emails',\n",
       " 'extract_emojis',\n",
       " 'extract_hashtags',\n",
       " 'extract_html_tags',\n",
       " 'extract_mastercard_addr',\n",
       " 'extract_md5sha',\n",
       " 'extract_numbers',\n",
       " 'extract_pattern',\n",
       " 'extract_phone_numbers',\n",
       " 'extract_postoffice_box',\n",
       " 'extract_shortwords',\n",
       " 'extract_special_characters',\n",
       " 'extract_stopwords',\n",
       " 'extract_street_address',\n",
       " 'extract_urls',\n",
       " 'extract_userhandles',\n",
       " 'extract_visacard_addr',\n",
       " 'fix_contractions',\n",
       " 'generate_sentence',\n",
       " 'hamming_distance',\n",
       " 'inverse_df',\n",
       " 'lexical_richness',\n",
       " 'markov_chain',\n",
       " 'math',\n",
       " 'nlargest',\n",
       " 'normalize',\n",
       " 'num2words',\n",
       " 'random',\n",
       " 're',\n",
       " 'read_txt',\n",
       " 'remove_bad_quotes',\n",
       " 'remove_btc_address',\n",
       " 'remove_currencies',\n",
       " 'remove_currency_symbols',\n",
       " 'remove_custom_pattern',\n",
       " 'remove_custom_words',\n",
       " 'remove_dates',\n",
       " 'remove_emails',\n",
       " 'remove_emojis',\n",
       " 'remove_hashtags',\n",
       " 'remove_html_tags',\n",
       " 'remove_mastercard_addr',\n",
       " 'remove_md5sha',\n",
       " 'remove_multiple_spaces',\n",
       " 'remove_non_ascii',\n",
       " 'remove_numbers',\n",
       " 'remove_phone_numbers',\n",
       " 'remove_postoffice_box',\n",
       " 'remove_puncts',\n",
       " 'remove_punctuations',\n",
       " 'remove_shortwords',\n",
       " 'remove_special_characters',\n",
       " 'remove_stopwords',\n",
       " 'remove_street_address',\n",
       " 'remove_urls',\n",
       " 'remove_userhandles',\n",
       " 'remove_visacard_addr',\n",
       " 'replace_bad_quotes',\n",
       " 'replace_currencies',\n",
       " 'replace_currency_symbols',\n",
       " 'replace_dates',\n",
       " 'replace_emails',\n",
       " 'replace_emojis',\n",
       " 'replace_numbers',\n",
       " 'replace_phone_numbers',\n",
       " 'replace_special_characters',\n",
       " 'replace_term',\n",
       " 'replace_urls',\n",
       " 'string',\n",
       " 'term_freq',\n",
       " 'to_txt',\n",
       " 'word_freq',\n",
       " 'word_length_freq']"
      ]
     },
     "execution_count": 45,
     "metadata": {},
     "output_type": "execute_result"
    }
   ],
   "source": [
    "dir(nfx)"
   ]
  },
  {
   "cell_type": "code",
   "execution_count": 46,
   "metadata": {},
   "outputs": [],
   "source": [
    "df['clean_title'] = df['course_title'].apply(nfx.remove_stopwords)"
   ]
  },
  {
   "cell_type": "code",
   "execution_count": 47,
   "metadata": {},
   "outputs": [
    {
     "data": {
      "text/html": [
       "<div>\n",
       "<style scoped>\n",
       "    .dataframe tbody tr th:only-of-type {\n",
       "        vertical-align: middle;\n",
       "    }\n",
       "\n",
       "    .dataframe tbody tr th {\n",
       "        vertical-align: top;\n",
       "    }\n",
       "\n",
       "    .dataframe thead th {\n",
       "        text-align: right;\n",
       "    }\n",
       "</style>\n",
       "<table border=\"1\" class=\"dataframe\">\n",
       "  <thead>\n",
       "    <tr style=\"text-align: right;\">\n",
       "      <th></th>\n",
       "      <th>clean_title</th>\n",
       "      <th>course_title</th>\n",
       "    </tr>\n",
       "  </thead>\n",
       "  <tbody>\n",
       "    <tr>\n",
       "      <th>0</th>\n",
       "      <td>Ultimate Investment Banking Course</td>\n",
       "      <td>Ultimate Investment Banking Course</td>\n",
       "    </tr>\n",
       "    <tr>\n",
       "      <th>1</th>\n",
       "      <td>Complete GST Course &amp; Certification - Grow Pra...</td>\n",
       "      <td>Complete GST Course &amp; Certification - Grow You...</td>\n",
       "    </tr>\n",
       "    <tr>\n",
       "      <th>2</th>\n",
       "      <td>Financial Modeling Business Analysts Consultants</td>\n",
       "      <td>Financial Modeling for Business Analysts and C...</td>\n",
       "    </tr>\n",
       "    <tr>\n",
       "      <th>3</th>\n",
       "      <td>Beginner Pro - Financial Analysis Excel 2017</td>\n",
       "      <td>Beginner to Pro - Financial Analysis in Excel ...</td>\n",
       "    </tr>\n",
       "    <tr>\n",
       "      <th>4</th>\n",
       "      <td>Maximize Profits Trading Options</td>\n",
       "      <td>How To Maximize Your Profits Trading Options</td>\n",
       "    </tr>\n",
       "    <tr>\n",
       "      <th>...</th>\n",
       "      <td>...</td>\n",
       "      <td>...</td>\n",
       "    </tr>\n",
       "    <tr>\n",
       "      <th>3673</th>\n",
       "      <td>Learn jQuery Scratch - Master JavaScript library</td>\n",
       "      <td>Learn jQuery from Scratch - Master of JavaScri...</td>\n",
       "    </tr>\n",
       "    <tr>\n",
       "      <th>3674</th>\n",
       "      <td>Design WordPress Website Coding</td>\n",
       "      <td>How To Design A WordPress Website With No Codi...</td>\n",
       "    </tr>\n",
       "    <tr>\n",
       "      <th>3675</th>\n",
       "      <td>Learn Build Polymer</td>\n",
       "      <td>Learn and Build using Polymer</td>\n",
       "    </tr>\n",
       "    <tr>\n",
       "      <th>3676</th>\n",
       "      <td>CSS Animations: Create Amazing Effects Website</td>\n",
       "      <td>CSS Animations: Create Amazing Effects on Your...</td>\n",
       "    </tr>\n",
       "    <tr>\n",
       "      <th>3677</th>\n",
       "      <td>MODX CMS Build Websites: Beginner's Guide</td>\n",
       "      <td>Using MODX CMS to Build Websites: A Beginner's...</td>\n",
       "    </tr>\n",
       "  </tbody>\n",
       "</table>\n",
       "<p>3678 rows × 2 columns</p>\n",
       "</div>"
      ],
      "text/plain": [
       "                                            clean_title  \\\n",
       "0                    Ultimate Investment Banking Course   \n",
       "1     Complete GST Course & Certification - Grow Pra...   \n",
       "2      Financial Modeling Business Analysts Consultants   \n",
       "3          Beginner Pro - Financial Analysis Excel 2017   \n",
       "4                      Maximize Profits Trading Options   \n",
       "...                                                 ...   \n",
       "3673   Learn jQuery Scratch - Master JavaScript library   \n",
       "3674                    Design WordPress Website Coding   \n",
       "3675                                Learn Build Polymer   \n",
       "3676     CSS Animations: Create Amazing Effects Website   \n",
       "3677          MODX CMS Build Websites: Beginner's Guide   \n",
       "\n",
       "                                           course_title  \n",
       "0                    Ultimate Investment Banking Course  \n",
       "1     Complete GST Course & Certification - Grow You...  \n",
       "2     Financial Modeling for Business Analysts and C...  \n",
       "3     Beginner to Pro - Financial Analysis in Excel ...  \n",
       "4          How To Maximize Your Profits Trading Options  \n",
       "...                                                 ...  \n",
       "3673  Learn jQuery from Scratch - Master of JavaScri...  \n",
       "3674  How To Design A WordPress Website With No Codi...  \n",
       "3675                      Learn and Build using Polymer  \n",
       "3676  CSS Animations: Create Amazing Effects on Your...  \n",
       "3677  Using MODX CMS to Build Websites: A Beginner's...  \n",
       "\n",
       "[3678 rows x 2 columns]"
      ]
     },
     "execution_count": 47,
     "metadata": {},
     "output_type": "execute_result"
    }
   ],
   "source": [
    "df[['clean_title','course_title']]"
   ]
  },
  {
   "cell_type": "code",
   "execution_count": 48,
   "metadata": {},
   "outputs": [],
   "source": [
    "# Tokenization\n",
    "all_title_list = df['clean_title'].to_list()"
   ]
  },
  {
   "cell_type": "code",
   "execution_count": 49,
   "metadata": {},
   "outputs": [
    {
     "data": {
      "text/plain": [
       "['Complete GST Course & Certification - Grow Practice',\n",
       " 'Financial Modeling Business Analysts Consultants',\n",
       " 'Beginner Pro - Financial Analysis Excel 2017',\n",
       " 'Maximize Profits Trading Options',\n",
       " 'Trading Penny Stocks: Guide Levels 2017',\n",
       " 'Investing Trading Beginners: Mastering Price Charts',\n",
       " 'Trading Stock Chart Patterns Immediate, Explosive Gains',\n",
       " 'Options Trading 3 : Advanced Stock Profit Success Method',\n",
       " 'Investment Strategy Need Retirement',\n",
       " \"Forex Trading Secrets Pros Amazon's AWS\",\n",
       " 'Trading Options Money Flow',\n",
       " 'Financial Management Risk Return Securities',\n",
       " 'Forex Trading Course: Work Smarter Harder Proven Results',\n",
       " 'Python Algo Trading: Sentiment Trading News',\n",
       " 'Short Selling: Learn Sell Stocks Fall',\n",
       " 'Basic Technical Analysis: Learn structure market',\n",
       " 'Complete Chart Pattern Trading Course: Proven Approach',\n",
       " '7 Deadly Mistakes Investing Slash Profits!',\n",
       " 'Financial Statements Easy',\n",
       " 'Winning Forex Trading Live Forex Trading Examples',\n",
       " 'Forex Traders - Create Trading Robot. Coding!',\n",
       " 'Create Business Home Trading Stocks Today 2017',\n",
       " 'Introduction Accounting : Mastering Financial Statements',\n",
       " 'Complete Ethereum Course: .01 Ether Wallet',\n",
       " 'Beginner Pro PowerPoint: Complete PowerPoint Training',\n",
       " 'Investing 101: Complete Online Investing Course',\n",
       " 'Create Hedge Fund: Trade Stocks Like Fund Manager',\n",
       " 'Learn MQL5: Build 8-Currency Hedging Robot (MetaTrader 5)',\n",
       " 'Forex Trading: Complete Guide Started Like Pro',\n",
       " 'Python Algo Stock Trading: Automate Trading!',\n",
       " 'Forex Robot: Incredible ROI (Robot Included)',\n",
       " 'Complete Bitcoin Course: .001 Bitcoin Wallet',\n",
       " 'Mastering High Probability Iron Condor Options Trading',\n",
       " 'Complete Short Course Ethereum',\n",
       " 'Options Trading Stocks: Proven Toolbox Financial Success',\n",
       " 'Forex Trading A-Z™ - LIVE Examples Forex Trading',\n",
       " 'Introduction Finance, Accounting, Modeling Valuation',\n",
       " 'Beginner Pro Excel: Financial Modeling Valuation',\n",
       " 'Complete Investment Banking Course 2017',\n",
       " 'Complete Financial Analyst Course 2017',\n",
       " 'Python Finance: Investment Fundamentals & Data Analytics',\n",
       " 'Financial Modeling Startups & Small Businesses',\n",
       " 'Options Trading - Win Weekly Options',\n",
       " 'Black Algo Trading: Build Trading Robot',\n",
       " 'Accounting & Financial Statement Analysis: Complete Training',\n",
       " 'Cryptocurrency Trading: Complete Guide Trading Altcoins',\n",
       " 'Forex Robots: Expect Earn 175% P.A. Forex Robot Included!',\n",
       " 'Steps Trading - Live Trading - Real Account',\n",
       " 'Option Trading Rookies: Understand Options Completely',\n",
       " 'Learned Stock Trading (and Too)',\n",
       " 'Learn Trade Profit: Find Trade Winning Stocks',\n",
       " 'Trading Inside Bars - Master 1 Easy Pattern Successful',\n",
       " 'Fundamentals Financial Planning',\n",
       " 'Options Trading - Calendar Spread Course Trader',\n",
       " 'Dividend Investing: Build Portfolio Better Future',\n",
       " 'Learn Accounting. Understand Business.',\n",
       " 'Consistently Win Trading Stocks 30 Days',\n",
       " \"Beginner's Guide Quantopian Futures API\",\n",
       " 'Buy Cheap Options - Options Trading Pricing Model',\n",
       " 'Excel Crash Course: Master Excel Financial Analysis',\n",
       " 'Comprehensive Guide Financial Markets, Investing &Trading',\n",
       " 'Stock Trading Ninja: Complete System Trading Success',\n",
       " 'Hedge Mutual Fund Careers: Complete Guide',\n",
       " 'Algorithmic Trading Forex: Create Forex Robot!',\n",
       " 'Power Modeling Bootcamp: Advanced Excel 10 Days',\n",
       " 'Options Trading Basics (3-Course Bundle)',\n",
       " 'Win 97% Options Trades',\n",
       " 'Consistent Returns Trading Options',\n",
       " 'Forex Strategies: Kelly Criterion, Larry Williams more!',\n",
       " 'Elite Trend Trader: Learn Trade Stocks, Options & Forex',\n",
       " 'Options Trading Introduction: Day Trade Stock Options',\n",
       " 'Perfect Options Trading Strategy System - Unique',\n",
       " 'Forex Trading - Learn Trade Forex Like Banks',\n",
       " 'Learn Trade Profit:Trading Japanese Candlesticks',\n",
       " 'Powerful Options Spread Trading Ratio Spread',\n",
       " 'Finance Job You? Explanation 14 Finance Roles',\n",
       " 'Blueprint Successful Stock Trading',\n",
       " 'Trading Beginners - Intermediate Level',\n",
       " 'Start Trading Stocks Technical Analysis!',\n",
       " 'Learn Set Incubator Hedge Fund - Step-by-Step',\n",
       " 'VPS Forex Trading - Protect Forex Robots',\n",
       " 'Introduction Accounting: Language Business',\n",
       " 'Basic Excel Basic Bookkeeping Accounting',\n",
       " '\\'The Greeks Understand Options\"',\n",
       " 'Trading Options Consistent Returns: Calendar Spreads',\n",
       " 'Create Personal Budget',\n",
       " 'Complete Value Investing Course: Proven Approach',\n",
       " 'FOREX Trading Price Action',\n",
       " 'Emini ES Futures - Advanced Non Directional Options Trading',\n",
       " 'Forex Trading - Advanced Fundamental Analysis',\n",
       " 'Invest Tiny Capital Stocks ?',\n",
       " 'Learn Successfully Trade Stocks: 5 Simple Steps',\n",
       " 'Forex MetaTrader 4: Master MT4 Like Pro Forex Trader',\n",
       " 'Intermediate Options trading concepts Stocks Options',\n",
       " 'Options Trading 101: Basics',\n",
       " 'Practical Accounts APP Overview',\n",
       " 'Bitcoin Profits Beginners',\n",
       " 'Trend Traders Club: Find Trade Fast Moving Trends',\n",
       " 'Financial Statements Basics']"
      ]
     },
     "execution_count": 49,
     "metadata": {},
     "output_type": "execute_result"
    }
   ],
   "source": [
    "all_title_list[1:100]"
   ]
  },
  {
   "cell_type": "code",
   "execution_count": 50,
   "metadata": {},
   "outputs": [
    {
     "name": "stdout",
     "output_type": "stream",
     "text": [
      "['Complete', 'GST', 'Course', '&', 'Certification', '-', 'Grow', 'Practice']\n",
      "Complete\n",
      "GST\n",
      "Course\n",
      "&\n",
      "Certification\n",
      "-\n",
      "Grow\n",
      "Practice\n",
      "['Financial', 'Modeling', 'Business', 'Analysts', 'Consultants']\n",
      "Financial\n",
      "Modeling\n",
      "Business\n",
      "Analysts\n",
      "Consultants\n",
      "['Beginner', 'Pro', '-', 'Financial', 'Analysis', 'Excel', '2017']\n",
      "Beginner\n",
      "Pro\n",
      "-\n",
      "Financial\n",
      "Analysis\n",
      "Excel\n",
      "2017\n",
      "['Maximize', 'Profits', 'Trading', 'Options']\n",
      "Maximize\n",
      "Profits\n",
      "Trading\n",
      "Options\n"
     ]
    }
   ],
   "source": [
    "for line in all_title_list[1:5]:\n",
    "    print(line.split())\n",
    "    for i in line.split():\n",
    "        print(i)"
   ]
  },
  {
   "cell_type": "code",
   "execution_count": 51,
   "metadata": {},
   "outputs": [],
   "source": [
    "# Convert list to tokens\n",
    "all_tokens = [i for line in all_title_list for i in line.split()]"
   ]
  },
  {
   "cell_type": "code",
   "execution_count": 52,
   "metadata": {},
   "outputs": [
    {
     "data": {
      "text/plain": [
       "['Ultimate',\n",
       " 'Investment',\n",
       " 'Banking',\n",
       " 'Course',\n",
       " 'Complete',\n",
       " 'GST',\n",
       " 'Course',\n",
       " '&',\n",
       " 'Certification',\n",
       " '-',\n",
       " 'Grow',\n",
       " 'Practice',\n",
       " 'Financial',\n",
       " 'Modeling',\n",
       " 'Business',\n",
       " 'Analysts',\n",
       " 'Consultants',\n",
       " 'Beginner',\n",
       " 'Pro',\n",
       " '-',\n",
       " 'Financial',\n",
       " 'Analysis',\n",
       " 'Excel',\n",
       " '2017',\n",
       " 'Maximize',\n",
       " 'Profits',\n",
       " 'Trading',\n",
       " 'Options',\n",
       " 'Trading',\n",
       " 'Penny',\n",
       " 'Stocks:',\n",
       " 'Guide',\n",
       " 'Levels',\n",
       " '2017',\n",
       " 'Investing',\n",
       " 'Trading',\n",
       " 'Beginners:',\n",
       " 'Mastering',\n",
       " 'Price',\n",
       " 'Charts',\n",
       " 'Trading',\n",
       " 'Stock',\n",
       " 'Chart',\n",
       " 'Patterns',\n",
       " 'Immediate,',\n",
       " 'Explosive',\n",
       " 'Gains',\n",
       " 'Options',\n",
       " 'Trading',\n",
       " '3',\n",
       " ':',\n",
       " 'Advanced',\n",
       " 'Stock',\n",
       " 'Profit',\n",
       " 'Success',\n",
       " 'Method',\n",
       " 'Investment',\n",
       " 'Strategy',\n",
       " 'Need',\n",
       " 'Retirement',\n",
       " 'Forex',\n",
       " 'Trading',\n",
       " 'Secrets',\n",
       " 'Pros',\n",
       " \"Amazon's\",\n",
       " 'AWS',\n",
       " 'Trading',\n",
       " 'Options',\n",
       " 'Money',\n",
       " 'Flow',\n",
       " 'Financial',\n",
       " 'Management',\n",
       " 'Risk',\n",
       " 'Return',\n",
       " 'Securities',\n",
       " 'Forex',\n",
       " 'Trading',\n",
       " 'Course:',\n",
       " 'Work',\n",
       " 'Smarter',\n",
       " 'Harder',\n",
       " 'Proven',\n",
       " 'Results',\n",
       " 'Python',\n",
       " 'Algo',\n",
       " 'Trading:',\n",
       " 'Sentiment',\n",
       " 'Trading',\n",
       " 'News',\n",
       " 'Short',\n",
       " 'Selling:',\n",
       " 'Learn',\n",
       " 'Sell',\n",
       " 'Stocks',\n",
       " 'Fall',\n",
       " 'Basic',\n",
       " 'Technical',\n",
       " 'Analysis:',\n",
       " 'Learn',\n",
       " 'structure',\n",
       " 'market',\n",
       " 'Complete',\n",
       " 'Chart',\n",
       " 'Pattern',\n",
       " 'Trading',\n",
       " 'Course:',\n",
       " 'Proven',\n",
       " 'Approach',\n",
       " '7',\n",
       " 'Deadly',\n",
       " 'Mistakes',\n",
       " 'Investing',\n",
       " 'Slash',\n",
       " 'Profits!',\n",
       " 'Financial',\n",
       " 'Statements',\n",
       " 'Easy',\n",
       " 'Winning',\n",
       " 'Forex',\n",
       " 'Trading',\n",
       " 'Live',\n",
       " 'Forex',\n",
       " 'Trading',\n",
       " 'Examples',\n",
       " 'Forex',\n",
       " 'Traders',\n",
       " '-',\n",
       " 'Create',\n",
       " 'Trading',\n",
       " 'Robot.',\n",
       " 'Coding!',\n",
       " 'Create',\n",
       " 'Business',\n",
       " 'Home',\n",
       " 'Trading',\n",
       " 'Stocks',\n",
       " 'Today',\n",
       " '2017',\n",
       " 'Introduction',\n",
       " 'Accounting',\n",
       " ':',\n",
       " 'Mastering',\n",
       " 'Financial',\n",
       " 'Statements',\n",
       " 'Complete',\n",
       " 'Ethereum',\n",
       " 'Course:',\n",
       " '.01',\n",
       " 'Ether',\n",
       " 'Wallet',\n",
       " 'Beginner',\n",
       " 'Pro',\n",
       " 'PowerPoint:',\n",
       " 'Complete',\n",
       " 'PowerPoint',\n",
       " 'Training',\n",
       " 'Investing',\n",
       " '101:',\n",
       " 'Complete',\n",
       " 'Online',\n",
       " 'Investing',\n",
       " 'Course',\n",
       " 'Create',\n",
       " 'Hedge',\n",
       " 'Fund:',\n",
       " 'Trade',\n",
       " 'Stocks',\n",
       " 'Like',\n",
       " 'Fund',\n",
       " 'Manager',\n",
       " 'Learn',\n",
       " 'MQL5:',\n",
       " 'Build',\n",
       " '8-Currency',\n",
       " 'Hedging',\n",
       " 'Robot',\n",
       " '(MetaTrader',\n",
       " '5)',\n",
       " 'Forex',\n",
       " 'Trading:',\n",
       " 'Complete',\n",
       " 'Guide',\n",
       " 'Started',\n",
       " 'Like',\n",
       " 'Pro',\n",
       " 'Python',\n",
       " 'Algo',\n",
       " 'Stock',\n",
       " 'Trading:',\n",
       " 'Automate',\n",
       " 'Trading!',\n",
       " 'Forex',\n",
       " 'Robot:',\n",
       " 'Incredible',\n",
       " 'ROI',\n",
       " '(Robot',\n",
       " 'Included)',\n",
       " 'Complete',\n",
       " 'Bitcoin',\n",
       " 'Course:',\n",
       " '.001',\n",
       " 'Bitcoin',\n",
       " 'Wallet',\n",
       " 'Mastering',\n",
       " 'High',\n",
       " 'Probability',\n",
       " 'Iron',\n",
       " 'Condor',\n",
       " 'Options',\n",
       " 'Trading',\n",
       " 'Complete',\n",
       " 'Short',\n",
       " 'Course',\n",
       " 'Ethereum',\n",
       " 'Options',\n",
       " 'Trading',\n",
       " 'Stocks:',\n",
       " 'Proven',\n",
       " 'Toolbox',\n",
       " 'Financial',\n",
       " 'Success',\n",
       " 'Forex',\n",
       " 'Trading',\n",
       " 'A-Z™',\n",
       " '-',\n",
       " 'LIVE',\n",
       " 'Examples',\n",
       " 'Forex',\n",
       " 'Trading',\n",
       " 'Introduction',\n",
       " 'Finance,',\n",
       " 'Accounting,',\n",
       " 'Modeling',\n",
       " 'Valuation',\n",
       " 'Beginner',\n",
       " 'Pro',\n",
       " 'Excel:',\n",
       " 'Financial',\n",
       " 'Modeling',\n",
       " 'Valuation',\n",
       " 'Complete',\n",
       " 'Investment',\n",
       " 'Banking',\n",
       " 'Course',\n",
       " '2017',\n",
       " 'Complete',\n",
       " 'Financial',\n",
       " 'Analyst',\n",
       " 'Course',\n",
       " '2017',\n",
       " 'Python',\n",
       " 'Finance:',\n",
       " 'Investment',\n",
       " 'Fundamentals',\n",
       " '&',\n",
       " 'Data',\n",
       " 'Analytics',\n",
       " 'Financial',\n",
       " 'Modeling',\n",
       " 'Startups',\n",
       " '&',\n",
       " 'Small',\n",
       " 'Businesses',\n",
       " 'Options',\n",
       " 'Trading',\n",
       " '-',\n",
       " 'Win',\n",
       " 'Weekly',\n",
       " 'Options',\n",
       " 'Black',\n",
       " 'Algo',\n",
       " 'Trading:',\n",
       " 'Build',\n",
       " 'Trading',\n",
       " 'Robot',\n",
       " 'Accounting',\n",
       " '&',\n",
       " 'Financial',\n",
       " 'Statement',\n",
       " 'Analysis:',\n",
       " 'Complete',\n",
       " 'Training',\n",
       " 'Cryptocurrency',\n",
       " 'Trading:',\n",
       " 'Complete',\n",
       " 'Guide',\n",
       " 'Trading',\n",
       " 'Altcoins',\n",
       " 'Forex',\n",
       " 'Robots:',\n",
       " 'Expect',\n",
       " 'Earn',\n",
       " '175%',\n",
       " 'P.A.',\n",
       " 'Forex',\n",
       " 'Robot',\n",
       " 'Included!',\n",
       " 'Steps',\n",
       " 'Trading',\n",
       " '-',\n",
       " 'Live',\n",
       " 'Trading',\n",
       " '-',\n",
       " 'Real',\n",
       " 'Account',\n",
       " 'Option',\n",
       " 'Trading',\n",
       " 'Rookies:',\n",
       " 'Understand',\n",
       " 'Options',\n",
       " 'Completely',\n",
       " 'Learned',\n",
       " 'Stock',\n",
       " 'Trading',\n",
       " '(and',\n",
       " 'Too)',\n",
       " 'Learn',\n",
       " 'Trade',\n",
       " 'Profit:',\n",
       " 'Find',\n",
       " 'Trade',\n",
       " 'Winning',\n",
       " 'Stocks',\n",
       " 'Trading',\n",
       " 'Inside',\n",
       " 'Bars',\n",
       " '-',\n",
       " 'Master',\n",
       " '1',\n",
       " 'Easy',\n",
       " 'Pattern',\n",
       " 'Successful',\n",
       " 'Fundamentals',\n",
       " 'Financial',\n",
       " 'Planning',\n",
       " 'Options',\n",
       " 'Trading',\n",
       " '-',\n",
       " 'Calendar',\n",
       " 'Spread',\n",
       " 'Course',\n",
       " 'Trader',\n",
       " 'Dividend',\n",
       " 'Investing:',\n",
       " 'Build',\n",
       " 'Portfolio',\n",
       " 'Better',\n",
       " 'Future',\n",
       " 'Learn',\n",
       " 'Accounting.',\n",
       " 'Understand',\n",
       " 'Business.',\n",
       " 'Consistently',\n",
       " 'Win',\n",
       " 'Trading',\n",
       " 'Stocks',\n",
       " '30',\n",
       " 'Days',\n",
       " \"Beginner's\",\n",
       " 'Guide',\n",
       " 'Quantopian',\n",
       " 'Futures',\n",
       " 'API',\n",
       " 'Buy',\n",
       " 'Cheap',\n",
       " 'Options',\n",
       " '-',\n",
       " 'Options',\n",
       " 'Trading',\n",
       " 'Pricing',\n",
       " 'Model',\n",
       " 'Excel',\n",
       " 'Crash',\n",
       " 'Course:',\n",
       " 'Master',\n",
       " 'Excel',\n",
       " 'Financial',\n",
       " 'Analysis',\n",
       " 'Comprehensive',\n",
       " 'Guide',\n",
       " 'Financial',\n",
       " 'Markets,',\n",
       " 'Investing',\n",
       " '&Trading',\n",
       " 'Stock',\n",
       " 'Trading',\n",
       " 'Ninja:',\n",
       " 'Complete',\n",
       " 'System',\n",
       " 'Trading',\n",
       " 'Success',\n",
       " 'Hedge',\n",
       " 'Mutual',\n",
       " 'Fund',\n",
       " 'Careers:',\n",
       " 'Complete',\n",
       " 'Guide',\n",
       " 'Algorithmic',\n",
       " 'Trading',\n",
       " 'Forex:',\n",
       " 'Create',\n",
       " 'Forex',\n",
       " 'Robot!',\n",
       " 'Power',\n",
       " 'Modeling',\n",
       " 'Bootcamp:',\n",
       " 'Advanced',\n",
       " 'Excel',\n",
       " '10',\n",
       " 'Days',\n",
       " 'Options',\n",
       " 'Trading',\n",
       " 'Basics',\n",
       " '(3-Course',\n",
       " 'Bundle)',\n",
       " 'Win',\n",
       " '97%',\n",
       " 'Options',\n",
       " 'Trades',\n",
       " 'Consistent',\n",
       " 'Returns',\n",
       " 'Trading',\n",
       " 'Options',\n",
       " 'Forex',\n",
       " 'Strategies:',\n",
       " 'Kelly',\n",
       " 'Criterion,',\n",
       " 'Larry',\n",
       " 'Williams',\n",
       " 'more!',\n",
       " 'Elite',\n",
       " 'Trend',\n",
       " 'Trader:',\n",
       " 'Learn',\n",
       " 'Trade',\n",
       " 'Stocks,',\n",
       " 'Options',\n",
       " '&',\n",
       " 'Forex',\n",
       " 'Options',\n",
       " 'Trading',\n",
       " 'Introduction:',\n",
       " 'Day',\n",
       " 'Trade',\n",
       " 'Stock',\n",
       " 'Options',\n",
       " 'Perfect',\n",
       " 'Options',\n",
       " 'Trading',\n",
       " 'Strategy',\n",
       " 'System',\n",
       " '-',\n",
       " 'Unique',\n",
       " 'Forex',\n",
       " 'Trading',\n",
       " '-',\n",
       " 'Learn',\n",
       " 'Trade',\n",
       " 'Forex',\n",
       " 'Like',\n",
       " 'Banks',\n",
       " 'Learn',\n",
       " 'Trade',\n",
       " 'Profit:Trading',\n",
       " 'Japanese',\n",
       " 'Candlesticks',\n",
       " 'Powerful',\n",
       " 'Options',\n",
       " 'Spread',\n",
       " 'Trading',\n",
       " 'Ratio',\n",
       " 'Spread',\n",
       " 'Finance',\n",
       " 'Job',\n",
       " 'You?',\n",
       " 'Explanation',\n",
       " '14',\n",
       " 'Finance',\n",
       " 'Roles',\n",
       " 'Blueprint',\n",
       " 'Successful',\n",
       " 'Stock',\n",
       " 'Trading',\n",
       " 'Trading',\n",
       " 'Beginners',\n",
       " '-',\n",
       " 'Intermediate',\n",
       " 'Level',\n",
       " 'Start',\n",
       " 'Trading',\n",
       " 'Stocks',\n",
       " 'Technical',\n",
       " 'Analysis!',\n",
       " 'Learn',\n",
       " 'Set',\n",
       " 'Incubator',\n",
       " 'Hedge',\n",
       " 'Fund',\n",
       " '-',\n",
       " 'Step-by-Step',\n",
       " 'VPS',\n",
       " 'Forex',\n",
       " 'Trading',\n",
       " '-',\n",
       " 'Protect',\n",
       " 'Forex',\n",
       " 'Robots',\n",
       " 'Introduction',\n",
       " 'Accounting:',\n",
       " 'Language',\n",
       " 'Business',\n",
       " 'Basic',\n",
       " 'Excel',\n",
       " 'Basic',\n",
       " 'Bookkeeping',\n",
       " 'Accounting',\n",
       " \"'The\",\n",
       " 'Greeks',\n",
       " 'Understand',\n",
       " 'Options\"',\n",
       " 'Trading',\n",
       " 'Options',\n",
       " 'Consistent',\n",
       " 'Returns:',\n",
       " 'Calendar',\n",
       " 'Spreads',\n",
       " 'Create',\n",
       " 'Personal',\n",
       " 'Budget',\n",
       " 'Complete',\n",
       " 'Value',\n",
       " 'Investing',\n",
       " 'Course:',\n",
       " 'Proven',\n",
       " 'Approach',\n",
       " 'FOREX',\n",
       " 'Trading',\n",
       " 'Price',\n",
       " 'Action',\n",
       " 'Emini',\n",
       " 'ES',\n",
       " 'Futures',\n",
       " '-',\n",
       " 'Advanced',\n",
       " 'Non',\n",
       " 'Directional',\n",
       " 'Options',\n",
       " 'Trading',\n",
       " 'Forex',\n",
       " 'Trading',\n",
       " '-',\n",
       " 'Advanced',\n",
       " 'Fundamental',\n",
       " 'Analysis',\n",
       " 'Invest',\n",
       " 'Tiny',\n",
       " 'Capital',\n",
       " 'Stocks',\n",
       " '?',\n",
       " 'Learn',\n",
       " 'Successfully',\n",
       " 'Trade',\n",
       " 'Stocks:',\n",
       " '5',\n",
       " 'Simple',\n",
       " 'Steps',\n",
       " 'Forex',\n",
       " 'MetaTrader',\n",
       " '4:',\n",
       " 'Master',\n",
       " 'MT4',\n",
       " 'Like',\n",
       " 'Pro',\n",
       " 'Forex',\n",
       " 'Trader',\n",
       " 'Intermediate',\n",
       " 'Options',\n",
       " 'trading',\n",
       " 'concepts',\n",
       " 'Stocks',\n",
       " 'Options',\n",
       " 'Options',\n",
       " 'Trading',\n",
       " '101:',\n",
       " 'Basics',\n",
       " 'Practical',\n",
       " 'Accounts',\n",
       " 'APP',\n",
       " 'Overview',\n",
       " 'Bitcoin',\n",
       " 'Profits',\n",
       " 'Beginners',\n",
       " 'Trend',\n",
       " 'Traders',\n",
       " 'Club:',\n",
       " 'Find',\n",
       " 'Trade',\n",
       " 'Fast',\n",
       " 'Moving',\n",
       " 'Trends',\n",
       " 'Financial',\n",
       " 'Statements',\n",
       " 'Basics',\n",
       " 'High',\n",
       " 'performance',\n",
       " 'Stock',\n",
       " 'Trading',\n",
       " 'key',\n",
       " 'Options',\n",
       " 'techniques',\n",
       " 'Introduction',\n",
       " 'Financial',\n",
       " 'Statement',\n",
       " 'Analysis',\n",
       " 'Basics',\n",
       " 'Economics',\n",
       " '(College',\n",
       " 'Level)',\n",
       " 'Stock',\n",
       " 'Market',\n",
       " 'Investing',\n",
       " 'Beginners',\n",
       " 'Accounting',\n",
       " 'Beginners',\n",
       " ':',\n",
       " 'Learn',\n",
       " 'Basics',\n",
       " '1',\n",
       " 'Hour',\n",
       " 'Straddle',\n",
       " 'Options',\n",
       " 'Trading',\n",
       " '-',\n",
       " 'Profit',\n",
       " 'Market',\n",
       " 'Direction',\n",
       " 'Fundamentals',\n",
       " 'Forex',\n",
       " 'Trading',\n",
       " 'Binary',\n",
       " 'Options:',\n",
       " 'Trading',\n",
       " 'Strategies,',\n",
       " '90%',\n",
       " 'Accuracy',\n",
       " 'Signals',\n",
       " 'Website',\n",
       " 'Investing',\n",
       " '101',\n",
       " '-',\n",
       " 'Buying',\n",
       " '&',\n",
       " 'Selling',\n",
       " 'Online',\n",
       " 'Businesses',\n",
       " 'Practical',\n",
       " 'Accounts',\n",
       " '&',\n",
       " 'Bookkeeping',\n",
       " 'Automated',\n",
       " 'Overview',\n",
       " 'Live',\n",
       " 'Account',\n",
       " '-',\n",
       " 'ETF',\n",
       " 'Trading',\n",
       " 'System',\n",
       " '-',\n",
       " 'Hacking',\n",
       " 'Stock',\n",
       " 'Market',\n",
       " 'Stock',\n",
       " 'Market',\n",
       " 'Leverage:',\n",
       " 'Start',\n",
       " 'Trading',\n",
       " 'Options',\n",
       " 'Wisely',\n",
       " 'Stock',\n",
       " 'Market',\n",
       " 'Foundations',\n",
       " 'Crash',\n",
       " 'Course',\n",
       " 'Working',\n",
       " 'Capital',\n",
       " 'Management',\n",
       " 'Advanced',\n",
       " 'Accounting',\n",
       " 'Complete',\n",
       " 'Study',\n",
       " '/',\n",
       " 'CMA',\n",
       " '/',\n",
       " 'CFA',\n",
       " '/',\n",
       " 'CS',\n",
       " '61%',\n",
       " 'Profit',\n",
       " '1',\n",
       " 'Month',\n",
       " '-',\n",
       " 'Crush',\n",
       " 'Forex',\n",
       " 'Trading',\n",
       " 'Paradigm',\n",
       " 'create',\n",
       " 'routine',\n",
       " 'Trading',\n",
       " 'Forex',\n",
       " 'Trading',\n",
       " 'Secrets',\n",
       " '|MT4',\n",
       " 'Robot',\n",
       " '(EA)',\n",
       " 'inside,',\n",
       " 'coding',\n",
       " 'Forex',\n",
       " 'SOS',\n",
       " 'Course:',\n",
       " 'Trading',\n",
       " 'Tweaks',\n",
       " 'Working',\n",
       " 'Forex',\n",
       " 'Strategy',\n",
       " 'Introduction',\n",
       " 'Financial',\n",
       " 'Modeling',\n",
       " 'Quantitative',\n",
       " 'Aptitude',\n",
       " 'Banking',\n",
       " '&',\n",
       " 'Competitive',\n",
       " 'Examinations',\n",
       " 'Option',\n",
       " 'Spreads',\n",
       " 'Credit',\n",
       " 'Spreads',\n",
       " 'Bundle',\n",
       " 'B',\n",
       " 'Com',\n",
       " 'Accountancy',\n",
       " '(Paper',\n",
       " 'ECO',\n",
       " '02',\n",
       " 'IGNOU)',\n",
       " 'FOREX',\n",
       " 'TRADING',\n",
       " '-',\n",
       " 'Learn',\n",
       " 'quick',\n",
       " '+',\n",
       " 'profitable',\n",
       " 'way',\n",
       " '+',\n",
       " 'support',\n",
       " 'Auditing',\n",
       " 'Basics',\n",
       " '(Professional',\n",
       " 'Course',\n",
       " 'Level)',\n",
       " 'Stock',\n",
       " 'market',\n",
       " 'Investing',\n",
       " 'Encyclopedia:',\n",
       " 'invest',\n",
       " 'stocks',\n",
       " 'Learn',\n",
       " 'basics',\n",
       " 'preparing',\n",
       " 'accounting',\n",
       " 'statements',\n",
       " 'Elliott',\n",
       " 'Wave',\n",
       " '-Forex',\n",
       " 'Trading',\n",
       " 'Elliott',\n",
       " 'Wave',\n",
       " 'Theory',\n",
       " 'Corporate',\n",
       " 'Finance',\n",
       " '-',\n",
       " 'Brief',\n",
       " 'Introduction',\n",
       " 'Excel',\n",
       " 'functions',\n",
       " 'analyze',\n",
       " 'visualize',\n",
       " 'data',\n",
       " 'Building',\n",
       " 'Financial',\n",
       " 'Statements',\n",
       " 'Excel',\n",
       " 'Transfer',\n",
       " 'Pricing',\n",
       " 'Complete',\n",
       " 'Analysis',\n",
       " 'Accounting:',\n",
       " 'Hired',\n",
       " 'Work',\n",
       " 'Experience',\n",
       " 'Forex',\n",
       " 'Trading',\n",
       " 'Beginners',\n",
       " '-',\n",
       " 'Basics',\n",
       " 'Basic',\n",
       " 'Bookkeeping',\n",
       " 'Hacks',\n",
       " 'Complete',\n",
       " 'Trading',\n",
       " 'Plan',\n",
       " 'Course',\n",
       " 'Stocks',\n",
       " '&',\n",
       " 'Forex',\n",
       " '(10',\n",
       " 'Hours)',\n",
       " 'Forex',\n",
       " 'Trading',\n",
       " 'Fixed',\n",
       " \"'Risk\",\n",
       " 'Options',\n",
       " 'Trading\"',\n",
       " 'Intro',\n",
       " 'Investment',\n",
       " 'Banking,',\n",
       " 'M&A,',\n",
       " 'IPO,',\n",
       " 'Modeling',\n",
       " '+',\n",
       " 'Free',\n",
       " 'Book',\n",
       " 'Pick',\n",
       " 'Right',\n",
       " 'Penny',\n",
       " 'Stocks',\n",
       " 'Invest',\n",
       " '2017',\n",
       " '10',\n",
       " 'Trading',\n",
       " 'Ideas',\n",
       " 'Equities',\n",
       " 'Market',\n",
       " 'Intro',\n",
       " 'Financial',\n",
       " 'Modeling',\n",
       " 'Shark',\n",
       " 'Accounting',\n",
       " '-',\n",
       " 'Building',\n",
       " 'Business',\n",
       " 'Numbers!',\n",
       " 'Forex',\n",
       " 'Trading',\n",
       " 'TRADE',\n",
       " 'TODAY!',\n",
       " 'Accounting',\n",
       " '60',\n",
       " 'Minutes',\n",
       " '-',\n",
       " 'Brief',\n",
       " 'Introduction',\n",
       " 'SAP',\n",
       " 'FICO',\n",
       " 'Beginners',\n",
       " '-',\n",
       " 'Guide',\n",
       " 'SAP',\n",
       " 'Financial',\n",
       " 'Accounts',\n",
       " 'Learn',\n",
       " 'double',\n",
       " 'Forex',\n",
       " 'Trading',\n",
       " 'Account',\n",
       " 'trade',\n",
       " 'Accounting',\n",
       " 'Superpowers:',\n",
       " 'Learn',\n",
       " 'Accounts,',\n",
       " 'Understand',\n",
       " 'Business!',\n",
       " 'Python',\n",
       " 'Algo',\n",
       " 'Trading:',\n",
       " 'FX',\n",
       " 'Trading',\n",
       " 'Oanda',\n",
       " 'Save',\n",
       " 'Taxes',\n",
       " 'Financial',\n",
       " 'Model',\n",
       " 'Basics:',\n",
       " 'Build',\n",
       " 'model',\n",
       " 'start',\n",
       " 'finish',\n",
       " 'Option',\n",
       " 'Trading',\n",
       " 'Rookies:',\n",
       " 'Covered',\n",
       " 'Option',\n",
       " 'Strategy',\n",
       " 'EFT',\n",
       " 'Stock',\n",
       " 'Options',\n",
       " 'Trading',\n",
       " 'Success',\n",
       " '&',\n",
       " 'Making',\n",
       " 'Better',\n",
       " 'Trades',\n",
       " 'Learn',\n",
       " 'Trade',\n",
       " 'Stock',\n",
       " 'Market',\n",
       " 'Blowing',\n",
       " 'Profits',\n",
       " 'Credit',\n",
       " 'Repair',\n",
       " 'Publication',\n",
       " 'Amazon',\n",
       " 'Live',\n",
       " 'LIFE..',\n",
       " 'Fundamentals',\n",
       " 'Accounting',\n",
       " 'RSI,',\n",
       " 'Options',\n",
       " 'Trading',\n",
       " '&',\n",
       " 'Technical',\n",
       " 'Analysis',\n",
       " '(3',\n",
       " 'Course',\n",
       " 'Bundle)',\n",
       " 'Basics',\n",
       " 'Mutual',\n",
       " 'Funds',\n",
       " '/',\n",
       " 'CMA',\n",
       " '/',\n",
       " 'CS',\n",
       " '/',\n",
       " 'CFA',\n",
       " 'Exams',\n",
       " 'Accounting',\n",
       " '101:',\n",
       " 'read',\n",
       " 'Accounting',\n",
       " 'Balance',\n",
       " 'Sheet',\n",
       " 'Stock',\n",
       " 'Options',\n",
       " 'Day',\n",
       " 'Trading',\n",
       " 'Mindset',\n",
       " 'Success',\n",
       " 'Introduction',\n",
       " 'bookkeeping',\n",
       " 'Accounting',\n",
       " 'Learn',\n",
       " 'Trade',\n",
       " 'News',\n",
       " 'Value',\n",
       " 'Investing,',\n",
       " 'Taught',\n",
       " 'Superinvestors',\n",
       " 'Trading',\n",
       " '-',\n",
       " 'Independent',\n",
       " 'Investor',\n",
       " 'Course',\n",
       " 'Acquired:',\n",
       " 'Learn',\n",
       " 'Head',\n",
       " 'Acquisitions',\n",
       " 'eBay',\n",
       " 'Stock',\n",
       " 'Market',\n",
       " 'investment:',\n",
       " 'Practical',\n",
       " 'Accounting',\n",
       " 'remove',\n",
       " \"'Risk\",\n",
       " 'Penny',\n",
       " 'Stocks',\n",
       " '-',\n",
       " 'Options',\n",
       " 'Trading\"',\n",
       " 'Accounting',\n",
       " 'Basics',\n",
       " '66',\n",
       " 'Minutes',\n",
       " '(absolutely',\n",
       " 'beginners)',\n",
       " 'Tax',\n",
       " 'Accounting:',\n",
       " 'Difficult',\n",
       " 'Topic,',\n",
       " 'Easy',\n",
       " ...]"
      ]
     },
     "execution_count": 52,
     "metadata": {},
     "output_type": "execute_result"
    }
   ],
   "source": [
    "all_tokens"
   ]
  },
  {
   "cell_type": "code",
   "execution_count": 53,
   "metadata": {},
   "outputs": [],
   "source": [
    "from collections import Counter"
   ]
  },
  {
   "cell_type": "code",
   "execution_count": 54,
   "metadata": {},
   "outputs": [],
   "source": [
    "word_freq = Counter(all_tokens)"
   ]
  },
  {
   "cell_type": "code",
   "execution_count": 55,
   "metadata": {},
   "outputs": [
    {
     "data": {
      "text/plain": [
       "{'-': 672,\n",
       " 'Learn': 491,\n",
       " 'Trading': 254,\n",
       " '&': 252,\n",
       " 'Web': 205,\n",
       " 'Beginners': 201,\n",
       " 'Course': 193,\n",
       " 'Guitar': 193,\n",
       " 'Complete': 180,\n",
       " 'Design': 172,\n",
       " 'Piano': 161,\n",
       " 'Build': 159,\n",
       " 'Forex': 148,\n",
       " 'Photoshop': 145,\n",
       " 'Financial': 138,\n",
       " 'Create': 134,\n",
       " 'Beginner': 118,\n",
       " 'Guide': 112,\n",
       " 'JavaScript': 112,\n",
       " 'Website': 108,\n",
       " 'HTML': 105,\n",
       " 'Accounting': 101,\n",
       " 'Adobe': 100,\n",
       " 'Development': 100,\n",
       " 'Play': 98,\n",
       " 'Options': 97,\n",
       " 'de': 96,\n",
       " 'PHP': 95,\n",
       " 'Master': 90,\n",
       " 'Introduction': 89}"
      ]
     },
     "execution_count": 55,
     "metadata": {},
     "output_type": "execute_result"
    }
   ],
   "source": [
    "# Top Words\n",
    "dict(word_freq.most_common(30))"
   ]
  },
  {
   "cell_type": "code",
   "execution_count": 56,
   "metadata": {},
   "outputs": [],
   "source": [
    "top_words = dict(word_freq.most_common(50))"
   ]
  },
  {
   "cell_type": "code",
   "execution_count": 58,
   "metadata": {},
   "outputs": [
    {
     "data": {
      "image/png": "[encoded data removed]",
      "text/plain": [
       "<Figure size 1440x720 with 1 Axes>"
      ]
     },
     "metadata": {
      "needs_background": "light"
     },
     "output_type": "display_data"
    }
   ],
   "source": [
    "plt.figure(figsize=(20,10))\n",
    "plt.bar(*zip(*top_words.items()))\n",
    "plt.xticks(rotation=45)\n",
    "plt.show()"
   ]
  },
  {
   "cell_type": "code",
   "execution_count": null,
   "metadata": {},
   "outputs": [],
   "source": []
  }
 ],
 "metadata": {
  "kernelspec": {
   "display_name": "Python 3",
   "language": "python",
   "name": "python3"
  },
  "language_info": {
   "codemirror_mode": {
    "name": "ipython",
    "version": 3
   },
   "file_extension": ".py",
   "mimetype": "text/x-python",
   "name": "python",
   "nbconvert_exporter": "python",
   "pygments_lexer": "ipython3",
   "version": "3.7.4"
  }
 },
 "nbformat": 4,
 "nbformat_minor": 2
}
